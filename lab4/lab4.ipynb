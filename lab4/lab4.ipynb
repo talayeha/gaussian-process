{
  "nbformat": 4,
  "nbformat_minor": 0,
  "metadata": {
    "kernelspec": {
      "display_name": "Python 3",
      "language": "python",
      "name": "python3"
    },
    "language_info": {
      "codemirror_mode": {
        "name": "ipython",
        "version": 3
      },
      "file_extension": ".py",
      "mimetype": "text/x-python",
      "name": "python",
      "nbconvert_exporter": "python",
      "pygments_lexer": "ipython3",
      "version": "3.7.3"
    },
    "colab": {
      "name": "lab4.ipynb",
      "provenance": [],
      "collapsed_sections": []
    }
  },
  "cells": [
    {
      "cell_type": "markdown",
      "metadata": {
        "id": "TRV_m0bjzqmf"
      },
      "source": [
        "# Lab exercise #4: Convolution likelihoods, convolution kernels and SM kernels \n",
        "\n",
        "CS-E4075 2021"
      ]
    },
    {
      "cell_type": "markdown",
      "metadata": {
        "id": "ecEKXwbkzqml"
      },
      "source": [
        "## Learning objectives\n",
        "\n",
        "After completing this lab exercise, you should be able to:\n",
        "\n",
        "- Apply a GP model to a deconvolution problem.\n",
        "- Using GPflow implement a convolutional kernel within a sparse variational gaussian process model (SVGP)\n",
        "- Implement spectral mixture kernels in GPflow"
      ]
    },
    {
      "cell_type": "code",
      "metadata": {
        "id": "g9onrm4Ezqmm"
      },
      "source": [
        "import time\n",
        "import numpy as np\n",
        "import matplotlib.pyplot as plt\n",
        "\n",
        "import gpflow\n",
        "import tensorflow as tf\n",
        "\n",
        "tf.executing_eagerly()\n",
        "import tensorflow_probability as tfp\n",
        "\n",
        "from gpflow import set_trainable\n",
        "from gpflow.utilities import to_default_float, positive\n",
        "\n",
        "\n",
        "gpflow.config.set_default_float(np.float64)\n",
        "gpflow.config.set_default_jitter(1e-4)\n",
        "gpflow.config.set_default_summary_fmt(\"notebook\")\n",
        "\n",
        "# for reproducibility of this notebook:\n",
        "np.random.seed(123)\n"
      ],
      "execution_count": 1,
      "outputs": []
    },
    {
      "cell_type": "markdown",
      "metadata": {
        "id": "MzmxA9Tozqmm"
      },
      "source": [
        "## Convolutional likelihood models."
      ]
    },
    {
      "cell_type": "code",
      "metadata": {
        "id": "zhOAlzX3zqmm"
      },
      "source": [
        "import scipy.integrate as integrate\n",
        "##https://docs.scipy.org/doc/scipy/reference/tutorial/integrate.html##\n",
        "\n",
        "np.random.seed(111)\n",
        "\n",
        "n = 100\n",
        "magnSigma2 = .5\n",
        "ell = .5\n",
        "sigma2 = 0.001\n",
        "x = np.linspace(-2,2,n)\n",
        "\n",
        "f =  lambda t: np.exp(-(2*t)**2)\n",
        "\n",
        "def g(t):\n",
        "    bool1 = t > -0.5\n",
        "    bool2 = t < 0.5 \n",
        "    return bool1*bool2*1\n"
      ],
      "execution_count": 2,
      "outputs": []
    },
    {
      "cell_type": "markdown",
      "metadata": {
        "id": "DZVHqOX5zqmn"
      },
      "source": [
        "## Task 1a: Use the scipy numerical integration function to compute the convolution.\n",
        "-  plot g, f and f_conv.\n"
      ]
    },
    {
      "cell_type": "code",
      "metadata": {
        "colab": {
          "base_uri": "https://localhost:8080/",
          "height": 385
        },
        "id": "tQDVBPjczqmn",
        "outputId": "7e127e05-73f8-4bb0-e60b-bb204a27b6aa"
      },
      "source": [
        "# we now sample noisy data from the convolution function\n",
        "def covolution(tau, t):\n",
        "    return f(tau) * g(t-tau)\n",
        "\n",
        "def epint(t):\n",
        "    return integrate.quad(covolution, -2, 2, args=(t))[0]\n",
        "\n",
        "vec_expint = np.vectorize(epint)\n",
        "f_conv = vec_expint(x)\n",
        "\n",
        "y = f_conv + np.sqrt(sigma2)*np.random.normal(size=n);\n",
        "\n",
        "plt.figure()\n",
        "plt.plot(x,f_conv, label='f_conv')\n",
        "plt.plot(x,f(x), label='f(x)')\n",
        "plt.plot(x,y,'+',label='y')\n",
        "plt.plot(x, g(x), label='g(x)')\n",
        "plt.legend()\n",
        "plt.show()"
      ],
      "execution_count": 3,
      "outputs": [
        {
          "output_type": "stream",
          "text": [
            "/usr/local/lib/python3.6/dist-packages/ipykernel_launcher.py:6: IntegrationWarning: The maximum number of subdivisions (50) has been achieved.\n",
            "  If increasing the limit yields no improvement it is advised to analyze \n",
            "  the integrand in order to determine the difficulties.  If the position of a \n",
            "  local difficulty can be determined (singularity, discontinuity) one will \n",
            "  probably gain from splitting up the interval and calling the integrator \n",
            "  on the subranges.  Perhaps a special-purpose integrator should be used.\n",
            "  \n"
          ],
          "name": "stderr"
        },
        {
          "output_type": "display_data",
          "data": {
            "image/png": "[encoded data removed]",
            "text/plain": [
              "<Figure size 432x288 with 1 Axes>"
            ]
          },
          "metadata": {
            "tags": [],
            "needs_background": "light"
          }
        }
      ]
    },
    {
      "cell_type": "markdown",
      "metadata": {
        "id": "FoiQu6Y5zqmo"
      },
      "source": [
        "## Task 1b: Compute a discrete convolution.\n",
        "- Use the discrete grid (x) as above and turn the integral in to a sum. (writing this out on paper may help)\n",
        "- Output a Convolution matrix which acts as the linear operator on the vector f, $f_{conv} = Cf $. \n",
        "- Plot the convolved f together with the discrete version."
      ]
    },
    {
      "cell_type": "code",
      "metadata": {
        "colab": {
          "base_uri": "https://localhost:8080/",
          "height": 281
        },
        "id": "adZ7aqW896Wj",
        "outputId": "0d62227d-4ab4-4866-ca41-11782ae5f718"
      },
      "source": [
        "func = lambda t, tau: f(tau)*g(t-tau)\r\n",
        "interval = (x[-1] - x[1])/n\r\n",
        "\r\n",
        "discrete = np.zeros(n)\r\n",
        "C = np.zeros((n,n))\r\n",
        "\r\n",
        "for i, point in enumerate(x):\r\n",
        "    res = 0\r\n",
        "    # calculate Riemann integral\r\n",
        "    ft = f(point)\r\n",
        "    for j, tau in enumerate(x):\r\n",
        "        f_res = f(tau)\r\n",
        "        g_res = g(point - tau)\r\n",
        "        height = f_res * g_res\r\n",
        "        area =  height * interval\r\n",
        "        # weight of convolution matrix C      \r\n",
        "        C[i,j] = area\r\n",
        "        res = res + area\r\n",
        "    C[i] = C[i] / res\r\n",
        "    discrete[i] = res\r\n",
        "\r\n",
        "plt.figure()\r\n",
        "plt.title(\"Discrete Integral\")\r\n",
        "plt.plot(x,f_conv, label='conv',color='blue')\r\n",
        "plt.plot(x,y,'+',label='y',color='red');\r\n",
        "plt.plot(x,discrete, label='discrete',color='purple')\r\n",
        "plt.legend()\r\n",
        "plt.show()"
      ],
      "execution_count": 4,
      "outputs": [
        {
          "output_type": "display_data",
          "data": {
            "image/png": "[encoded data removed]",
            "text/plain": [
              "<Figure size 432x288 with 1 Axes>"
            ]
          },
          "metadata": {
            "tags": [],
            "needs_background": "light"
          }
        }
      ]
    },
    {
      "cell_type": "markdown",
      "metadata": {
        "id": "3SFOr1rUzqmo"
      },
      "source": [
        "## Task 1c: Now solve the deconvolution problem.\n",
        "- Follow the adjusted GP regression formula's from the lecture slides using an SE kernel and the C you have calculated.\n",
        "- Plot the true underlying function alongside with the mean and 95% confidence interval, as shown on slide 30."
      ]
    },
    {
      "cell_type": "code",
      "metadata": {
        "id": "nR-wgnr0dYA7"
      },
      "source": [
        "assert C.shape == (n,n)\r\n",
        "\r\n",
        "def kernel_matrix(X1, X2, alpha=0.5, scale=0.5):\r\n",
        "    matrix = np.zeros((X1.shape[0],X2.shape[0]), dtype=float)\r\n",
        "    for x1_idx, x1 in enumerate(X1):\r\n",
        "        for x2_idx, x2 in enumerate(X2):\r\n",
        "            norms = np.sum((x1-x2)**2)\r\n",
        "            matrix[x1_idx][x2_idx] = alpha*np.exp(-0.5*norms/scale**2)\r\n",
        "            # norms = np.sum((x1-x2)**2)\r\n",
        "            # matrix[x1_idx][x2_idx] = alpha * np.exp(-0.5 * norms/(scale**2))\r\n",
        "    return matrix\r\n",
        "\r\n",
        "def kernel(X1, X2, alpha=0.5, scale=0.5):\r\n",
        "    # norms = np.sum((X1-X2)**2)\r\n",
        "    # return alpha * np.exp(-0.5 * norms/(scale**2))\r\n",
        "    norms = np.sum((x1-x2)**2)\r\n",
        "    return alpha*np.exp(-0.5*norms/scale**2)\r\n"
      ],
      "execution_count": 5,
      "outputs": []
    },
    {
      "cell_type": "code",
      "metadata": {
        "colab": {
          "base_uri": "https://localhost:8080/",
          "height": 534
        },
        "id": "eRIlSF3ahW6H",
        "outputId": "9164e735-ae30-48df-afa0-f0f4e8b53a06"
      },
      "source": [
        "# calculate original rbf kernel covariance matrix\r\n",
        "K_original_matrix = kernel_matrix(x,x,0.5, 0.5)\r\n",
        "assert K_original_matrix.shape == C.shape == (n,n)\r\n",
        "\r\n",
        "# calcualate covolution kernel matrix K\r\n",
        "K = C.dot(K_original_matrix).dot(C.T)\r\n",
        "assert K.shape == (n,n)\r\n",
        "\r\n",
        "# inv (K + Sigma2*I)\r\n",
        "inv_K = np.linalg.inv(K + magnSigma2 * np.eye(n))\r\n",
        "assert inv_K.shape == (n,n)\r\n",
        "\r\n",
        "# k_*\r\n",
        "k_star = K_original_matrix.dot(C.T)\r\n",
        "# E and V\r\n",
        "E = k_star.dot(inv_K).dot(y)\r\n",
        "V = K_original_matrix - k_star.dot(inv_K).dot(k_star)\r\n",
        "\r\n",
        "assert E.shape == (n,)\r\n",
        "assert V.shape == (n,n)\r\n",
        "\r\n",
        "upper = []\r\n",
        "lower = []\r\n",
        "V_diag = np.diag(V)\r\n",
        "for i in range(n):\r\n",
        "    upper.append(E[i] + V_diag[i] * 0.95 / 2)\r\n",
        "    lower.append(E[i] - V_diag[i] * 0.95 / 2)\r\n",
        "\r\n",
        "plt.figure(dpi=150)\r\n",
        "plt.plot(x,f_conv, label='f(x)')\r\n",
        "plt.plot(x,y,'+',label='y');\r\n",
        "plt.plot(x, E, label='mean')\r\n",
        "plt.fill_between(x,upper,lower,label='95%',alpha=0.5)\r\n",
        "plt.legend()\r\n",
        "plt.show()"
      ],
      "execution_count": 6,
      "outputs": [
        {
          "output_type": "display_data",
          "data": {
            "image/png": "[encoded data removed]",
            "text/plain": [
              "<Figure size 900x600 with 1 Axes>"
            ]
          },
          "metadata": {
            "tags": [],
            "needs_background": "light"
          }
        }
      ]
    },
    {
      "cell_type": "markdown",
      "metadata": {
        "id": "g7bpgDb1zqmo"
      },
      "source": [
        "## Convolutional kernel.\n",
        "\n",
        "We follow the example https://gpflow.readthedocs.io/en/master/notebooks/advanced/convolutional.html"
      ]
    },
    {
      "cell_type": "code",
      "metadata": {
        "id": "ShIJCb7Lzqmo"
      },
      "source": [
        "# for reproducibility of this notebook:\n",
        "np.random.seed(123)\n",
        "tf.random.set_seed(42)\n",
        "\n",
        "def make_rectangle(arr, x0, y0, x1, y1):\n",
        "    # Draw the edges\n",
        "    arr[y0:y1, x0] = 1\n",
        "    arr[y0:y1, x1] = 1\n",
        "    arr[y0, x0:x1] = 1\n",
        "    arr[y1, x0 : x1 + 1] = 1\n",
        "\n",
        "\n",
        "def make_random_rectangle(arr):\n",
        "    # Randomnly initialise the corners\n",
        "    x0 = np.random.randint(1, arr.shape[1] - 3)\n",
        "    y0 = np.random.randint(1, arr.shape[0] - 3)\n",
        "    x1 = np.random.randint(x0 + 2, arr.shape[1] - 1)\n",
        "    y1 = np.random.randint(y0 + 2, arr.shape[0] - 1)\n",
        "    make_rectangle(arr, x0, y0, x1, y1)\n",
        "    return x0, y0, x1, y1\n",
        "\n",
        "\n",
        "def make_rectangles_dataset(num, w, h):\n",
        "    # Generate the rectangle dataset\n",
        "    d, Y = np.zeros((num, h, w)), np.zeros((num, 1))\n",
        "    for i, img in enumerate(d):\n",
        "        for j in range(1000):  # Finite number of tries to ensure \n",
        "            x0, y0, x1, y1 = make_random_rectangle(img)\n",
        "            rw, rh = y1 - y0, x1 - x0\n",
        "            if rw == rh:\n",
        "                img[:, :] = 0\n",
        "                continue\n",
        "            Y[i, 0] = rw > rh\n",
        "            break\n",
        "    return (\n",
        "        d.reshape(num, w * h).astype(gpflow.config.default_float()),\n",
        "        Y.astype(gpflow.config.default_float()),\n",
        "    )"
      ],
      "execution_count": 7,
      "outputs": []
    },
    {
      "cell_type": "code",
      "metadata": {
        "id": "TlE7aXNnzqmp"
      },
      "source": [
        "MAXITER = 100\n",
        "NUM_TRAIN_DATA = 100\n",
        "NUM_TEST_DATA = 300\n",
        "\n",
        "H = W = 14  # width and height of the images.\n",
        "IMAGE_SHAPE = [H, W]\n",
        "\n",
        "X, Y = data = make_rectangles_dataset(NUM_TRAIN_DATA, *IMAGE_SHAPE)\n",
        "Xt, Yt = test_data = make_rectangles_dataset(NUM_TEST_DATA, *IMAGE_SHAPE)"
      ],
      "execution_count": 8,
      "outputs": []
    },
    {
      "cell_type": "code",
      "metadata": {
        "scrolled": true,
        "colab": {
          "base_uri": "https://localhost:8080/",
          "height": 161
        },
        "id": "Ly4pHpjXzqmp",
        "outputId": "7fe94cd1-edbb-4a0a-da9e-ed7501c0082a"
      },
      "source": [
        "plt.figure(figsize=(8, 3))\n",
        "for i in range(4):\n",
        "    plt.subplot(1, 4, i + 1)\n",
        "    plt.imshow(X[i, :].reshape(*IMAGE_SHAPE))\n",
        "    plt.title(Y[i, 0])"
      ],
      "execution_count": 9,
      "outputs": [
        {
          "output_type": "display_data",
          "data": {
            "image/png": "[encoded data removed]",
            "text/plain": [
              "<Figure size 576x216 with 4 Axes>"
            ]
          },
          "metadata": {
            "tags": [],
            "needs_background": "light"
          }
        }
      ]
    },
    {
      "cell_type": "markdown",
      "metadata": {
        "id": "zRvAvExizqmp"
      },
      "source": [
        "Each image contains the outline of a randomly generated rectangle, and is labelled according\n",
        "to whether the rectangle has larger width or height. $y_i = 1$ if height is greater than width and $y_i = 0$ if width is greater than height."
      ]
    },
    {
      "cell_type": "markdown",
      "metadata": {
        "id": "GoF18cVxzqmp"
      },
      "source": [
        "## Task 2a: Comment on why a standard kernel would struggle with the rectangle dataset?"
      ]
    },
    {
      "cell_type": "markdown",
      "metadata": {
        "id": "G8EpAhQDzqmp"
      },
      "source": [
        "The standard kernel does not work well with rectangle dataset because:\r\n",
        "1. The input data contains high dimensionality\r\n",
        "2. Strong dependence of the label on multiple pixel locations\r\n",
        "\r\n",
        "Source - Mark et. al. Convolutional Gaussian Processes. arXiv:1709.01894v1  [stat.ML]  6 Sep 2017"
      ]
    },
    {
      "cell_type": "markdown",
      "metadata": {
        "id": "eUWBnF7jzqmq"
      },
      "source": [
        "We now try to fit a squared exponential kernel to the rectangle dataset, using the model class SVGP. SVGP is the sparse version of VGP discussed in lecture 4."
      ]
    },
    {
      "cell_type": "code",
      "metadata": {
        "id": "t0btsqsQzqmq"
      },
      "source": [
        "# This is a standard initialisation of the SVGP model class we need a kernel, \n",
        "# likelihood and inducing point locations.\n",
        "rbf_m = gpflow.models.SVGP(\n",
        "    gpflow.kernels.SquaredExponential(),\n",
        "    gpflow.likelihoods.Bernoulli(),\n",
        "    gpflow.inducing_variables.InducingPoints(X.copy()),\n",
        ")# We use our data points as inducing points but usually you would want to use a sparse set."
      ],
      "execution_count": 10,
      "outputs": []
    },
    {
      "cell_type": "code",
      "metadata": {
        "id": "u6SKwr3Lzqmq"
      },
      "source": [
        "# We turn off training for inducing point locations\n",
        "set_trainable(rbf_m.inducing_variable, False)\n",
        "\n",
        "# Similar to how we optimised in lab_3 but now using Adam and gradients are called inside optimizer.\n",
        "def run_adam(model, iterations, data): \n",
        "    \"\"\"\n",
        "    Utility function running the Adam optimizer\n",
        "\n",
        "    :param model: GPflow model\n",
        "    :param interations: number of iterations\n",
        "    \"\"\"\n",
        "    # Create an Adam Optimizer action\n",
        "    logf = []\n",
        "    training_loss = model.training_loss_closure(data, compile=True)\n",
        "    optimizer = tf.optimizers.Adam(lr=0.01)\n",
        "\n",
        "    @tf.function # This creates a static graph so we can reuse it every iteration.\n",
        "    def optimization_step():\n",
        "        optimizer.minimize(training_loss, model.trainable_variables)\n",
        "\n",
        "    for step in range(iterations):\n",
        "        optimization_step()\n",
        "        if step % 10 == 0:\n",
        "            elbo = -training_loss().numpy()\n",
        "            logf.append(elbo)\n",
        "    return logf\n"
      ],
      "execution_count": 11,
      "outputs": []
    },
    {
      "cell_type": "code",
      "metadata": {
        "scrolled": false,
        "colab": {
          "base_uri": "https://localhost:8080/",
          "height": 279
        },
        "id": "YeWyTnUWzqmq",
        "outputId": "5b20f15e-0887-47f1-9554-9703cd77e1e8"
      },
      "source": [
        "maxiter = 100\n",
        "\n",
        "logf = run_adam(rbf_m, maxiter,(X,Y))\n",
        "plt.plot(np.arange(maxiter)[::10], logf)\n",
        "plt.xlabel(\"iteration\")\n",
        "_ = plt.ylabel(\"ELBO\")"
      ],
      "execution_count": 12,
      "outputs": [
        {
          "output_type": "display_data",
          "data": {
            "image/png": "[encoded data removed]",
            "text/plain": [
              "<Figure size 432x288 with 1 Axes>"
            ]
          },
          "metadata": {
            "tags": [],
            "needs_background": "light"
          }
        }
      ]
    },
    {
      "cell_type": "code",
      "metadata": {
        "colab": {
          "base_uri": "https://localhost:8080/"
        },
        "id": "iEiJN6Mbzqmr",
        "outputId": "87aba84c-e84e-4586-c5d3-9c7e79ffc9d4"
      },
      "source": [
        "train_acc = np.mean((rbf_m.predict_y(X)[0] > 0.5).numpy().astype(\"float\") == Y)\n",
        "test_acc = np.mean((rbf_m.predict_y(Xt)[0] > 0.5).numpy().astype(\"float\") == Yt)\n",
        "print(f\"Train acc: {train_acc * 100}%\\nTest acc : {test_acc*100}%\")"
      ],
      "execution_count": 13,
      "outputs": [
        {
          "output_type": "stream",
          "text": [
            "Train acc: 100.0%\n",
            "Test acc : 70.33333333333334%\n"
          ],
          "name": "stdout"
        }
      ]
    },
    {
      "cell_type": "code",
      "metadata": {
        "colab": {
          "base_uri": "https://localhost:8080/",
          "height": 137
        },
        "id": "52TVrSkpzqmr",
        "outputId": "326796b2-6986-4429-b60f-578b0b38b9ce"
      },
      "source": [
        "gpflow.utilities.print_summary(rbf_m) # We can here see all the parameters that we optimise"
      ],
      "execution_count": 14,
      "outputs": [
        {
          "output_type": "display_data",
          "data": {
            "text/html": [
              "<table>\n",
              "<thead>\n",
              "<tr><th>name                    </th><th>class    </th><th>transform     </th><th>prior  </th><th>trainable  </th><th>shape        </th><th>dtype  </th><th>value                                               </th></tr>\n",
              "</thead>\n",
              "<tbody>\n",
              "<tr><td>SVGP.kernel.variance    </td><td>Parameter</td><td>Softplus      </td><td>       </td><td>True       </td><td>()           </td><td>float64</td><td>0.7859763281946252                                  </td></tr>\n",
              "<tr><td>SVGP.kernel.lengthscales</td><td>Parameter</td><td>Softplus      </td><td>       </td><td>True       </td><td>()           </td><td>float64</td><td>1.9783777154062832                                  </td></tr>\n",
              "<tr><td>SVGP.inducing_variable.Z</td><td>Parameter</td><td>Identity      </td><td>       </td><td>False      </td><td>(100, 196)   </td><td>float64</td><td>[[0., 0., 0....                                     </td></tr>\n",
              "<tr><td>SVGP.q_mu               </td><td>Parameter</td><td>Identity      </td><td>       </td><td>True       </td><td>(100, 1)     </td><td>float64</td><td>[[-0.49359234...                                    </td></tr>\n",
              "<tr><td>SVGP.q_sqrt             </td><td>Parameter</td><td>FillTriangular</td><td>       </td><td>True       </td><td>(1, 100, 100)</td><td>float64</td><td>[[[8.44783537e-01, 0.00000000e+00, 0.00000000e+00...</td></tr>\n",
              "</tbody>\n",
              "</table>"
            ],
            "text/plain": [
              "<IPython.core.display.HTML object>"
            ]
          },
          "metadata": {
            "tags": []
          }
        }
      ]
    },
    {
      "cell_type": "markdown",
      "metadata": {
        "id": "TTJT1LZDzqmr"
      },
      "source": [
        "## Task 2b: Change the number of inducing points in this model?\n",
        "\n",
        "Currently we are not using a reduced number inducing points $M =N$ and SVGP is the same as VGP. Try picking less but keep them randomnly selected from the data and see the effect on the model. Try $M=75,50,25$ and state the train and test accuracy."
      ]
    },
    {
      "cell_type": "code",
      "metadata": {
        "colab": {
          "base_uri": "https://localhost:8080/"
        },
        "id": "x92h_UNuzqmr",
        "outputId": "3ad27a55-1e16-4484-a935-8decd55893c8"
      },
      "source": [
        "M = [75,50,25]\r\n",
        "set_trainable(rbf_m.inducing_variable, True)\r\n",
        "idx = np.arange(0,n)\r\n",
        "\r\n",
        "for m in M:\r\n",
        "    idx_chosen = np.random.choice(idx, size = m, replace=False)\r\n",
        "    logf = run_adam(rbf_m, maxiter,(X[idx_chosen],Y[idx_chosen]))\r\n",
        "    train_acc = np.mean((rbf_m.predict_y(X)[0] > 0.5).numpy().astype(\"float\") == Y)\r\n",
        "    test_acc = np.mean((rbf_m.predict_y(Xt)[0] > 0.5).numpy().astype(\"float\") == Yt)\r\n",
        "    print(f\"\\nM = {m}\")\r\n",
        "    print(f\"Train acc: {train_acc * 100}%\\nTest acc : {test_acc*100}%\\n\")\r\n",
        "    print('-'*20)"
      ],
      "execution_count": 15,
      "outputs": [
        {
          "output_type": "stream",
          "text": [
            "\n",
            "M = 75\n",
            "Train acc: 96.0%\n",
            "Test acc : 69.33333333333334%\n",
            "\n",
            "--------------------\n",
            "\n",
            "M = 50\n",
            "Train acc: 84.0%\n",
            "Test acc : 66.33333333333333%\n",
            "\n",
            "--------------------\n",
            "\n",
            "M = 25\n",
            "Train acc: 72.0%\n",
            "Test acc : 59.0%\n",
            "\n",
            "--------------------\n"
          ],
          "name": "stdout"
        }
      ]
    },
    {
      "cell_type": "markdown",
      "metadata": {
        "id": "j1dMW4NWijsq"
      },
      "source": [
        "## Conclusion\r\n",
        "More inducing points can yield better prediction posterior and higher accuracy on both training set and test set"
      ]
    },
    {
      "cell_type": "markdown",
      "metadata": {
        "id": "d7EHzw2vzqms"
      },
      "source": [
        "## Convolutional Kernel\n",
        "To construct a convolutional GP we use a patch response function $g: \\mathbb{R}^E \\to \\mathbb{R}$ mapping form patch size $E$ to a real value. Then we make the overall function of the image $f: \\mathbb{R}^D \\to \\mathbb{R}$ a sum of the patch functions. If $g(.)$ is given a GP prior then a GP prior is induced on $f(.)$.\n",
        "\n",
        "$$ g \\sim \\mathcal{GP}(0,k_g(\\bf{z},\\bf{z}')), \\quad f ({x}) = \\sum_{p} g(\\bf{x}^{[p]}) $$\n",
        "\n",
        "$$ f ({x}) \\sim \\mathcal{GP} \\big(0,\\sum_{p} \\sum_{p'} k_g(\\bf{x}^{[p]},\\bf{x}'^{[p']}) \\big)$$\n",
        "\n",
        "- The kernel now works on the patches.\n",
        "- $k_g$ can be any base kernel but we will use the squared exponential"
      ]
    },
    {
      "cell_type": "code",
      "metadata": {
        "scrolled": true,
        "id": "8wC6YFZTzqms"
      },
      "source": [
        "def get_patches(X): # A function that will give us vector patches\n",
        "        \"\"\"\n",
        "        Extracts patches from the images X.\n",
        "        :param X: (N x input_dim)\n",
        "        :return: Patches (N, num_patches, patch_shape)\n",
        "        \"\"\"\n",
        "\n",
        "        num_data = tf.shape(X)[0]\n",
        "        castX = tf.transpose(tf.reshape(X, [num_data, -1, 1]), [0, 2, 1])\n",
        "        patches = tf.image.extract_patches(\n",
        "            tf.reshape(castX, [-1, 14, 14, 1], name=\"rX\"),\n",
        "            [1, 3, 3, 1],\n",
        "            [1, 1, 1, 1],\n",
        "            [1, 1, 1, 1],\n",
        "            \"VALID\",\n",
        "        )\n",
        "        shp = tf.shape(patches)  # img x out_rows x out_cols\n",
        "        reshaped_patches = tf.reshape(\n",
        "            patches, [num_data, 1 * shp[1] * shp[2], shp[3]]\n",
        "        )\n",
        "        return to_default_float(reshaped_patches)"
      ],
      "execution_count": 16,
      "outputs": []
    },
    {
      "cell_type": "markdown",
      "metadata": {
        "id": "1rEEib_Wzqms"
      },
      "source": [
        "## Task 2c: Compute a value of the kernel and compare it against the gpflow implementation.\n",
        "\n",
        "- Do not compute the whole kernel simply K[0,0] will do. Remember to normalise by the total number of sums.\n",
        "- You can check your solution against the evaluated GPflow kernel.\n",
        "- Comment on the computation of the convolutional kernel against a standard kernel."
      ]
    },
    {
      "cell_type": "code",
      "metadata": {
        "id": "c0pgkVezzqms"
      },
      "source": [
        "base = gpflow.kernels.SquaredExponential()\n",
        "Xp = get_patches(X)\n",
        "patch_shape = [3,3]\n",
        "def K(Xp):\n",
        "    num_patches = Xp.shape[1]\n",
        "    Xp = Xp\n",
        "    Xp2 = Xp\n",
        "\n",
        "    bigK = base.K(Xp, Xp2)  # [N, num_patches, N, num_patches]\n",
        "\n",
        "    weights = np.ones(num_patches)\n",
        "    W2 = weights[:, None] * weights[None, :]  # [P, P]\n",
        "    W2bigK = bigK * W2[None, :, None, :]\n",
        "    return tf.reduce_sum(W2bigK, [1, 3]) / num_patches ** 2\n",
        "\n",
        "conv_kernel_value = K(Xp)\n"
      ],
      "execution_count": 26,
      "outputs": []
    },
    {
      "cell_type": "code",
      "metadata": {
        "colab": {
          "base_uri": "https://localhost:8080/"
        },
        "id": "JZ2YqAkEyv9_",
        "outputId": "868a1cd3-e556-4b32-f83a-f2b407a3f89b"
      },
      "source": [
        "Xp.shape[2]\r\n",
        "# evaluated GPflow kernel\r\n",
        "# k = gpflow.kernels.Convolutional(gpflow.kernels.SquaredExponential(), IMAGE_SHAPE, Xp.shape[2])\r\n",
        "# res = k.K(Xp,Xp)"
      ],
      "execution_count": 22,
      "outputs": [
        {
          "output_type": "execute_result",
          "data": {
            "text/plain": [
              "9"
            ]
          },
          "metadata": {
            "tags": []
          },
          "execution_count": 22
        }
      ]
    },
    {
      "cell_type": "markdown",
      "metadata": {
        "id": "WnFITkF0zqms"
      },
      "source": [
        "Now we build the SVGP model with the convolution kernel."
      ]
    },
    {
      "cell_type": "code",
      "metadata": {
        "id": "x1SNO-tazqmt"
      },
      "source": [
        "\n",
        "## We constrain our parameters to help with optimisation.\n",
        "f64 = lambda x: np.array(x, dtype=np.float64)\n",
        "positive_with_min = lambda: tfp.bijectors.AffineScalar(shift=f64(1e-4))(tfp.bijectors.Softplus())\n",
        "constrained = lambda: tfp.bijectors.AffineScalar(shift=f64(1e-4), scale=f64(100.0))(\n",
        "    tfp.bijectors.Sigmoid()\n",
        ")\n",
        "max_abs_1 = lambda: tfp.bijectors.AffineScalar(shift=f64(-2.0), scale=f64(4.0))(\n",
        "    tfp.bijectors.Sigmoid()\n",
        ")\n",
        "\n",
        "# Build the convolutional kernel given specific image data.\n",
        "conv_k = gpflow.kernels.Convolutional(gpflow.kernels.SquaredExponential(), IMAGE_SHAPE, patch_shape)\n",
        "conv_k.base_kernel.lengthscales = gpflow.Parameter(1.0, transform=positive_with_min())\n",
        "\n",
        "# Weight scale and variance are non-identifiable. We also need to prevent variance from shooting off crazily.\n",
        "conv_k.base_kernel.variance = gpflow.Parameter(1.0, transform=constrained())\n",
        "conv_k.weights = gpflow.Parameter(conv_k.weights.numpy(), transform=max_abs_1())\n",
        "conv_f = gpflow.inducing_variables.InducingPatches(\n",
        "    np.unique(conv_k.get_patches(X).numpy().reshape(-1, 9), axis=0)\n",
        ") # We place the inducing variables in the patch space and remove duplicates.\n"
      ],
      "execution_count": 28,
      "outputs": []
    },
    {
      "cell_type": "code",
      "metadata": {
        "id": "jq3XfUQJzqmt"
      },
      "source": [
        "maxiter = 700\n",
        "\n",
        "# we now define a new model with the special convolutional kernel structure.\n",
        "conv_m = gpflow.models.SVGP(conv_k, gpflow.likelihoods.Bernoulli(), conv_f)\n",
        "\n",
        "set_trainable(conv_m.inducing_variable, False) # for not do not train inducing variables.\n",
        "set_trainable(conv_m.kernel.base_kernel.variance, True)\n",
        "set_trainable(conv_m.kernel.weights, True)\n",
        "\n",
        "\n",
        "logf = run_adam(conv_m, maxiter,(X,Y))\n",
        "plt.plot(np.arange(maxiter)[::10], logf)\n",
        "plt.xlabel(\"iteration\")\n",
        "_ = plt.ylabel(\"ELBO\")"
      ],
      "execution_count": null,
      "outputs": []
    },
    {
      "cell_type": "code",
      "metadata": {
        "id": "nXHngMqrzqmt"
      },
      "source": [
        "train_acc = np.mean((conv_m.predict_y(X)[0] > 0.5).numpy().astype(\"float\") == Y)\n",
        "test_acc = np.mean((conv_m.predict_y(Xt)[0] > 0.5).numpy().astype(\"float\") == Yt)\n",
        "print(f\"Train acc: {train_acc * 100}%\\nTest acc : {test_acc*100}%\")\n"
      ],
      "execution_count": null,
      "outputs": []
    },
    {
      "cell_type": "code",
      "metadata": {
        "id": "jmJ6LeNizqmu"
      },
      "source": [
        "gpflow.utilities.print_summary(conv_m) # can you spot the difference with the standard SVGP summary."
      ],
      "execution_count": null,
      "outputs": []
    },
    {
      "cell_type": "markdown",
      "metadata": {
        "id": "Ri37_Iqdzqmu"
      },
      "source": [
        "## Task 2d: Now turn training on for the patches and plot them"
      ]
    },
    {
      "cell_type": "code",
      "metadata": {
        "id": "x35Doaipz0TW"
      },
      "source": [
        ""
      ],
      "execution_count": null,
      "outputs": []
    },
    {
      "cell_type": "markdown",
      "metadata": {
        "id": "FKaxkQvNzqmu"
      },
      "source": [
        "# Sprectal mixture kernel"
      ]
    },
    {
      "cell_type": "markdown",
      "metadata": {
        "id": "1BfdZvPmzqmu"
      },
      "source": [
        "The SM kernel implementation compatible with gpflow. There are several kernels already defined in gpflow.kernels, and they all share the base 'Kernel' class. The kernel computation uses tensorflow functions (not numpy) so that we can utilize autodiff for later optimization.\n",
        "\n",
        "__Task 3a__: Complete the below SM kernel function to implement 1D Spectral Mixture kernel within the gpflow framework\n",
        "\n",
        "$$k(x,x') = \\sum_{q=1}^Q a_q \\exp( -2 \\pi^2 \\sigma_q^2 \\tau^2) \\cos( 2 \\pi \\mu_q \\tau), \\quad \\tau = x-x'$$\n",
        "\n",
        "that corresponds to a spectral mixture density\n",
        "\n",
        "$$S(\\omega) = \\sum_{q=1}^Q a_q \\mathcal{N}(\\omega | \\mu_q, \\sigma_q^2)$$\n",
        "\n",
        "where $a_q$ is the amplitude, $\\mu_q$ is the mean frequency and $\\sigma_q^2$ is the frequency variance in the frequency $\\omega$ domain. For info on implementing gpflow kernels, see https://gpflow.readthedocs.io/en/master/notebooks/tailor/kernel_design.html\n",
        "\n",
        "\n",
        "Hint: Compute the component-wise kernels into a kernel matrix of size (N,N,Q), and sum them together to obtain (N,N) kernel matrix."
      ]
    },
    {
      "cell_type": "code",
      "metadata": {
        "id": "J-kwMfjazqmu"
      },
      "source": [
        "\n",
        "class UnivariateSMkernel(gpflow.kernels.Kernel):\n",
        "    \"\"\"\n",
        "    The spectral mixture (SM) kernel function [Wilson et al 2013]\n",
        "    \n",
        "    Inherits the 'Kernel' class from gpflow.kernels\n",
        "     o We need to override the constructor to include the parameters (a,mu,sigma)\n",
        "     o We need to override the 'K' function to compute the exp*cos kernel\n",
        "     o We need to override the 'K_diag' function\n",
        "     \n",
        "    Supports only 1D inputs. Wilson et al 2014 contains multivariate version of the kernel \n",
        "    \"\"\"\n",
        "    \n",
        "    def __init__(self, amps=None, freqs=None, ells=None, Q=1):\n",
        "        \"\"\"\n",
        "        - 'amps' are the amplitudes of the mixture components \n",
        "        - 'freqs' are the frequencies means of the mixture components \n",
        "        - 'ells' are the frequency stdevs of the mixture components \n",
        "        - 'Q' is the number of components\n",
        "        \"\"\"\n",
        "        \n",
        "        # init as 1D kernel \n",
        "        super().__init__(active_dims=[0]) #input_dim=1\n",
        "\n",
        "        # mixture amplitudes\n",
        "        if amps is None:\n",
        "            amps = np.random.uniform(0,1,Q)\n",
        "        self.amplitudes = gpflow.Parameter(amps, transform=positive())\n",
        "        \n",
        "        # frequency means\n",
        "        if freqs is None:\n",
        "            freqs = np.random.uniform(0,1,Q)\n",
        "        self.frequencies = gpflow.Parameter(freqs, transform=positive())\n",
        "        \n",
        "        # frequency variances\n",
        "        if ells is None:\n",
        "            ells = np.random.uniform(0,1,Q)\n",
        "        self.lengthscales = gpflow.Parameter(ells, transform=positive())\n",
        "\n",
        "        self.Q = Q\n",
        "        \n",
        "    def K_diag(self, X):\n",
        "        return tf.fill(tf.stack([tf.shape(X)[0]]), tf.reduce_sum(self.amplitudes))\n",
        "    \n",
        "    def K(self, X1, X2=None):\n",
        "        \"\"\" Returns a kernel matrix of size (N1,N2) where (i,j)'th element is k(xi,xj)\n",
        "        \n",
        "        Input: X1 of size (N1,D)\n",
        "               X2 of size (N2,D)\n",
        "        \"\"\"\n",
        "        if X2 is None:\n",
        "            X2 = X1\n",
        "        \n",
        "        ##############################\n",
        "        kernel = []\n",
        "\n",
        "        tau = X1[:, None] - X2[None, :]\n",
        "        exp = tf.math.exp(\n",
        "            -2 * (np.pi**2) * (self.lengthscales**2) * ((tau)**2)\n",
        "        )\n",
        "        cos = tf.math.cos(2 * np.pi * self.frequencies * (tau))\n",
        "        res = self.amplitudes * exp * cos\n",
        "        kernel.append(tmp)\n",
        "        ##############################\n",
        "        \n",
        "        ##  >>>> SOLUTION CODE BELOW, REMOVE BEFORE GIVING TO STUDENTS <<<<\n",
        "        \n",
        "        return kernel"
      ],
      "execution_count": null,
      "outputs": []
    },
    {
      "cell_type": "code",
      "metadata": {
        "id": "1IHj_kpstg-h"
      },
      "source": [
        "from gpflow.utilities import print_summary, positive\r\n",
        "usmk = UnivariateSMkernel()\r\n",
        "print_summary(usmk, fmt=\"notebook\")"
      ],
      "execution_count": null,
      "outputs": []
    },
    {
      "cell_type": "markdown",
      "metadata": {
        "id": "D7C1JDHBzqmu"
      },
      "source": [
        "__Task 3b__: Fit a trigonometric function using the code below with both Gaussian and SM kernel.\n",
        "\n",
        "* Why are the fits different outside the training data?\n",
        "\n",
        "* Which kernel fits the data better, and why?\n"
      ]
    },
    {
      "cell_type": "code",
      "metadata": {
        "id": "rODrtaI8zqmv"
      },
      "source": [
        "# plotting function    \n",
        "def plotgp(m, X, y, minx, maxx):\n",
        "    xx = np.linspace(minx, maxx, 500)[:,None]\n",
        "    mean, var = m.predict_y(xx)\n",
        "    plt.figure(figsize=(12, 6))\n",
        "    plt.plot(X, y, 'k.', mew=2)\n",
        "    plt.plot(xx, mean, 'b', lw=2)\n",
        "    plt.fill_between(xx[:,0], mean[:,0] - 2*np.sqrt(var[:,0]), mean[:,0] + 2*np.sqrt(var[:,0]), color='blue', alpha=0.2)\n",
        "    plt.xlim(minx, maxx)\n",
        "\n",
        "\n",
        "opt = gpflow.optimizers.Scipy()\n",
        "\n",
        "# data\n",
        "np.random.seed(1)\n",
        "N = 20\n",
        "X = np.random.rand(N,1)\n",
        "Y = np.sin(12*X) + 0.66*np.cos(25*X) + np.random.randn(N,1)*0.1 + 3\n",
        "\n",
        "# fit GP fit Gaussian kernel\n",
        "kgauss = gpflow.kernels.RBF( 1, lengthscales=0.3 )  # init lengthscale to 0.3\n",
        "mg = gpflow.models.GPR( (X,Y), kernel = kgauss )\n",
        "mg.likelihood.variance.assign(0.01)\n",
        "opt.minimize(mg.training_loss, variables=mg.trainable_variables)\n",
        "\n",
        "# print and plot\n",
        "# gpflow.utilities.print_summary(mg)\n",
        "plotgp(mg, X, Y, -1, 2)\n",
        "\n",
        "\n",
        "# fit GP with SM kernel\n",
        "ksm = UnivariateSMkernel( Q = 3 )\n",
        "ms = gpflow.models.GPR( (X,Y), kernel = ksm )\n",
        "ms.likelihood.variance.assign(0.01)\n",
        "opt.minimize(ms.training_loss, variables=ms.trainable_variables)\n",
        "\n",
        "# print and plot\n",
        "# gpflow.utilities.print_summary(ms)\n",
        "plotgp(ms, X, Y, -1, 2)\n"
      ],
      "execution_count": null,
      "outputs": []
    },
    {
      "cell_type": "markdown",
      "metadata": {
        "id": "EJ5IuszPzqmv"
      },
      "source": [
        "__Task 3c__ Apply the SM kernel to the CO2 dataset. Below is a template code that (usually) fits the datasets correctly due to initialising the correct 1-year frequency (1/12) for the model. It might take a few retries to find a good fit.\n",
        "\n",
        "* Modify the code to have a random initialisation of the frequencies. Can you still learn the 1-year frequency if the initialisation is random? Why or whynot?\n",
        "\n",
        "* Modify the visualisation to include both training and test points. Is the fit reasonable?\n",
        "\n",
        "* Visualise the optimised SM kernel matrix. What can you see?\n",
        "\n",
        "* Visualise the spectral density $S(\\omega) = \\sum_{q=1}^Q a_q \\mathcal{N}(\\omega | \\mu_q, \\sigma_q^2)$ using the parameter you just optimised. \n",
        "\n"
      ]
    },
    {
      "cell_type": "code",
      "metadata": {
        "id": "cipeP_BBzqmv"
      },
      "source": [
        "import sklearn\n",
        "from sklearn.datasets import fetch_openml\n",
        "\n",
        "def load_mauna_loa_atmospheric_co2():\n",
        "    ml_data = fetch_openml(data_id=41187)\n",
        "    months = []\n",
        "    ppmv_sums = []\n",
        "    counts = []\n",
        "\n",
        "    y = ml_data.data[:, 0]\n",
        "    m = ml_data.data[:, 1]\n",
        "    month_float = y + (m - 1) / 12\n",
        "    ppmvs = ml_data.target\n",
        "\n",
        "    for month, ppmv in zip(month_float, ppmvs):\n",
        "        if not months or month != months[-1]:\n",
        "            months.append(month)\n",
        "            ppmv_sums.append(ppmv)\n",
        "            counts.append(1)\n",
        "        else:\n",
        "            # aggregate monthly sum to produce average\n",
        "            ppmv_sums[-1] += ppmv\n",
        "            counts[-1] += 1\n",
        "\n",
        "    months = np.asarray(months).reshape(-1, 1)\n",
        "    avg_ppmvs = np.asarray(ppmv_sums) / counts\n",
        "    avg_ppmvs = np.asarray(avg_ppmvs).reshape(-1, 1)\n",
        "    return months, avg_ppmvs\n",
        "\n",
        "\n",
        "X,Y = load_mauna_loa_atmospheric_co2()\n",
        "\n",
        "Xtr = X[0:100]\n",
        "Ytr = Y[0:100]\n",
        "\n",
        "Xts = X[100:]\n",
        "Yts = Y[100:]\n",
        "\n",
        "\n",
        "# set SM kernel model\n",
        "ksm = UnivariateSMkernel( Q = 3, freqs = [0.083, 1.0, 0.5], ells = [0.01, 0.01, 0.01], amps = [20,20,20] )\n",
        "#ksm = UnivariateSMkernel( Q = 10 )\n",
        "m = gpflow.models.GPR( (Xtr,Ytr), kernel = ksm )\n",
        "m.likelihood.variance.assign(0.1)\n",
        "set_trainable(m.likelihood.variance, False)\n",
        "\n",
        "# optimize\n",
        "opt = gpflow.optimizers.Scipy()\n",
        "opt.minimize( m.training_loss, variables=m.trainable_variables )\n",
        "\n",
        "# print\n",
        "gpflow.utilities.print_summary(m)\n",
        "\n",
        "# plot\n",
        "plotgp(m, Xtr, Ytr, 1950., 2020.)\n"
      ],
      "execution_count": null,
      "outputs": []
    },
    {
      "cell_type": "code",
      "metadata": {
        "id": "gWN5mmhfzqmv"
      },
      "source": [
        ""
      ],
      "execution_count": null,
      "outputs": []
    },
    {
      "cell_type": "code",
      "metadata": {
        "id": "T2bRlsYFzqmv"
      },
      "source": [
        ""
      ],
      "execution_count": null,
      "outputs": []
    }
  ]
}