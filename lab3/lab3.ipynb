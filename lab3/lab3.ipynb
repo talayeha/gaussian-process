{
 "cells": [
  {
   "cell_type": "markdown",
   "metadata": {
    "id": "2U5gjTQc669x"
   },
   "source": [
    "# Lab exercise #3: ELBO and GPLVMs\n",
    "\n",
    "CS-E4075 2021"
   ]
  },
  {
   "cell_type": "markdown",
   "metadata": {
    "id": "mUv6IOU_66-L"
   },
   "source": [
    "# Task 1: Variational inference for Gaussian Process Classification (worth 2 points)\n",
    "\n",
    "## Learning objectives\n",
    "\n",
    "After completing this lab exercise, you should be able to:\n",
    "\n",
    "- Implement Variational inference for GP classification\n",
    "\n",
    "\n",
    "** Important Notes **\n",
    "- In this notebook, we **won't** be implementing sparse GPs (the approximation using inducing points). However, completing this notebook will give you all the tools and building blocks to implement them.\n",
    "- For speed purposes, it is highly recommended to use an automatic differentiation framework such as tensorflow or pytorch. (optimization using numpy/scipy also works, but will be much slower!). Examples and hints in this notebook are using tensorflow but can be adapted to run in alternative frameworks.\n",
    "- All exercises must be solved using only basic mathematical operations (exp, erf, ...) and linear algebra routines (solve, matrix-vector products, ...)\n",
    "\n"
   ]
  },
  {
   "cell_type": "markdown",
   "metadata": {
    "id": "C37jb-UxOKue"
   },
   "source": [
    "**A mini tutorial on automatic differentiation**\n",
    "\n",
    "When using an automatic differentiation framework to optimize a function $f: \\theta \\to f(\\theta)$, the variable $\\theta$ and/or the operations mapping from $\\theta$ to $f(\\theta)$ must be defined using operators from the framework.\n",
    "\n",
    "For example to optimize $e^{\\theta}+e^{-\\theta}$ with respect to $\\theta$ with tensorflow, you need to proceed as follows:\n"
   ]
  },
  {
   "cell_type": "code",
   "execution_count": 1,
   "metadata": {
    "colab": {
     "base_uri": "https://localhost:8080/"
    },
    "id": "6QFiiuNGOL3z",
    "outputId": "d5af91e5-dbd5-436b-fbbe-7de974d238ff"
   },
   "outputs": [
    {
     "name": "stdout",
     "output_type": "stream",
     "text": [
      "0 <tf.Variable 'Variable:0' shape=() dtype=float64, numpy=0.976495976127124>\n",
      "100 <tf.Variable 'Variable:0' shape=() dtype=float64, numpy=0.11997260765615987>\n",
      "200 <tf.Variable 'Variable:0' shape=() dtype=float64, numpy=0.015891416802624455>\n",
      "300 <tf.Variable 'Variable:0' shape=() dtype=float64, numpy=0.00210746772964796>\n",
      "400 <tf.Variable 'Variable:0' shape=() dtype=float64, numpy=0.0002794913296214945>\n",
      "500 <tf.Variable 'Variable:0' shape=() dtype=float64, numpy=3.7066015766512994e-05>\n",
      "600 <tf.Variable 'Variable:0' shape=() dtype=float64, numpy=4.91567854916927e-06>\n",
      "700 <tf.Variable 'Variable:0' shape=() dtype=float64, numpy=6.519151061083718e-07>\n",
      "800 <tf.Variable 'Variable:0' shape=() dtype=float64, numpy=8.645669185832985e-08>\n",
      "900 <tf.Variable 'Variable:0' shape=() dtype=float64, numpy=1.146584808250585e-08>\n"
     ]
    }
   ],
   "source": [
    "import tensorflow as tf\n",
    "\n",
    "# define the theta variable\n",
    "theta = tf.Variable(1.0, dtype=tf.float64)\n",
    "\n",
    "# define the function\n",
    "f = lambda x: tf.exp(x) + tf.exp(-x) # note the use of the tf.exp operation (not np.exp)\n",
    "\n",
    "# run the optimization\n",
    "for t in range(1000):\n",
    "    # at each step, compute the gradients\n",
    "    with tf.GradientTape() as tape:\n",
    "        tape.watch(theta)\n",
    "        loss = f(theta)\n",
    "    \n",
    "    gradient = tape.gradient(loss, theta)\n",
    "    \n",
    "    # apply the variable update (gradient descent)\n",
    "    theta.assign(theta - 0.01*gradient)\n",
    "    \n",
    "    if t % 100 == 0:\n",
    "        print(t, theta)"
   ]
  },
  {
   "cell_type": "code",
   "execution_count": 2,
   "metadata": {
    "id": "FBLZZULA66-O"
   },
   "outputs": [],
   "source": [
    "%matplotlib inline\n",
    "import tensorflow as tf\n",
    "import numpy as np\n",
    "import math\n",
    "import matplotlib.pyplot as plt"
   ]
  },
  {
   "cell_type": "markdown",
   "metadata": {
    "id": "HB5AYW3W66-V"
   },
   "source": [
    "We are interested in the problem of Gaussian Process classification. \n",
    "\n",
    "We have some data $\\mathcal{D} = \\left\\lbrace {\\bf x}_n, y_n \\right\\rbrace_{n=1}^N$, with $y_n \\in \\{-1,1\\}$.\n",
    "\n",
    "We want to perform inference in the following generative model\n",
    "$$ f \\sim GP(0, k)$$\n",
    "$$ p(y_n=1|{\\bf x}_n) = \\phi(y_n * f_n),$$\n",
    "with $\\phi$ the normal cumulative distribution function $\\phi(x)=\\int_{-\\infty}^x {\\cal N}(u; 0,1)du$.\n",
    "\n",
    "We will here use a RBF kernel, with two parameters: lengthscale $l$ and variance $\\sigma^2$.\n",
    "\n",
    "\n",
    "The posterior is $p({\\bf f}|{\\bf y}) \\propto p({\\bf y}|{\\bf f})p({\\bf f})$ is intractable, hence we resort to an approximate inference scheme called variational inference.\n",
    "\n",
    "This turns inference into optimization. We optimize the distance $d(q) = KL[q({\\bf f})||p({\\bf f}|{\\bf y})] \\geq 0$, with respect to a distribution $q({\\bf f})$\n",
    "\n",
    "We parameterize $q$ through the mean vector $m$ and the Cholesky factor of the covariance $L$: i.e. $q({\\bf f})={\\cal N}({\\bf f}|m, S=LL^T)$\n",
    "\n",
    "In practice we optimize the ELBO:\n",
    "$${\\cal L}(q) = \\log p({\\bf y})-d(q) = \\underbrace{\\mathbb{E}_q \\log p({\\bf y}|{\\bf f})}_{VE} - \\underbrace{KL(q({\\bf f})||p({\\bf f}))}_{KL}$$\n",
    "\n",
    "We split the ELBO into two terms\n",
    "* variational expectations (VE)\n",
    "* Kullback Leibler (KL)\n"
   ]
  },
  {
   "cell_type": "markdown",
   "metadata": {
    "id": "s6XskkCP66-X"
   },
   "source": [
    "### Task 1a: KL divergence\n",
    "\n",
    "For a prior $p({\\bf f})={\\cal N}({\\bf f}|0,K)$ and a variational distribution $q({\\bf f})={\\cal N}({\\bf f}|m, S=LL^T)$, compute the KL divergence $KL(q({\\bf f})||p({\\bf f}))$\n",
    "\n",
    "\n",
    "You can use the formula :\n",
    "$$\n",
    "\\begin{align*}\n",
    "&KL\\left(\\mathcal{N}(\\mu_0,\\Sigma_0) \\parallel \\mathcal{N}(\\mu_1,\\Sigma_1)\\right) \\\\ \n",
    " &= \\frac{1}{2}\\left(\n",
    "    \\operatorname{tr}\\left(\\Sigma_1^{-1}\\Sigma_0\\right) +\n",
    "    \\left(\\mu_1 - \\mu_0\\right)^\\mathsf{T} \\Sigma_1^{-1}\\left(\\mu_1 - \\mu_0\\right) - k +\n",
    "    \\ln\\frac{|\\Sigma_1|}{|\\Sigma_0|}\n",
    "  \\right),\\; (source: wikipedia)\\\\\n",
    "  &= \\dots \\quad \\text{ (bonus : can you fill the gap?)}\\\\\n",
    "    &=\n",
    "  \\frac{1}{2}\\left(\n",
    "    \\sum_{ij} (L_1^{-1}L_0)^2_{ij} +\n",
    "    ||L_1^{-1}\\left(\\mu_1 - \\mu_0\\right)||^2 - k + 2\\sum_{i}\n",
    "    \\ln |L_{1,ii}|- \\ln|L_{0,ii}|\n",
    "  \\right).\n",
    "  \\end{align*}\n",
    "  $$\n",
    "\n",
    "**Note**: this needs to be adapted to the (mean,cholesky) parameterization of the multivariate Gaussian distributions.\n"
   ]
  },
  {
   "cell_type": "markdown",
   "metadata": {},
   "source": [
    "Since $ A^{-1}=L^T L $"
   ]
  },
  {
   "cell_type": "code",
   "execution_count": 29,
   "metadata": {
    "id": "sW7T2ux_66-Y"
   },
   "outputs": [],
   "source": [
    "def KL(m0, L0, m1, L1):\n",
    "    \"\"\" returns the KL divergence between N(m0, S0) and N(m1, S1)\n",
    "    \n",
    "    arguments:\n",
    "    m0, m1   -- N x 1, mean vector\n",
    "    L0, L1   -- N x N, Cholesky factor of a covariance matrix \n",
    "    returns a scalar\n",
    "    \"\"\"\n",
    "    # if m0.shape == m1.shape and L0.shape == L1.shape:\n",
    "    #     N = m0.shape[0] \n",
    "    # else:\n",
    "    #     print(\"KL invalid input\")\n",
    "    #     return None\n",
    "    # inv_L1 = np.linalg.inv(L0)\n",
    "    # inv_L0L1 = inv_L1.dot(L0)\n",
    "    \n",
    "    # a = np.sum(inv_L0L1 * inv_L0L1)\n",
    "    # b = np.linalg.norm(inv_L1.dot(m1-m0))\n",
    "    # c = 2 * np.sum(np.log(np.diagonal(L1)/np.diagonal(L0)))\n",
    "\n",
    "    ###############################################\n",
    "    # ------- insert code here -------------------\n",
    "    ###############################################\n",
    "    # if m0.shape == m1.shape and L0.shape == L1.shape:\n",
    "    #     N = m0.shape[0]\n",
    "    # else:\n",
    "    #     print(\"KL invalid input\")\n",
    "    #     return None\n",
    "    N = tf.constant(L0.shape[0], dtype=tf.float64)\n",
    "    inv_L1 = tf.linalg.inv(L1)\n",
    "    # inv_L1_L0 = tf.tensordot(inv_L1,L0,axes=1)\n",
    "    inv_L1_L0 = tf.linalg.matmul(inv_L1,L0)\n",
    "    \n",
    "    a = tf.reduce_sum(tf.math.square(tf.linalg.matmul(inv_L1,L0)))\n",
    "    # b = tf.linalg.norm(tf.tensordot(inv_L1,m1-m0,axes=1),ord=2)\n",
    "    b = tf.linalg.norm(tf.linalg.matmul(inv_L1,m1-m0),ord=2)\n",
    "    c = 2 * tf.reduce_sum(\n",
    "        tf.math.log(\n",
    "            tf.linalg.diag_part(L1) / tf.linalg.diag_part(L0)\n",
    "        )\n",
    "    )\n",
    "    return 0.5 * (a + b - N +  c)\n",
    "    ######################################\n",
    "    \n"
   ]
  },
  {
   "cell_type": "markdown",
   "metadata": {
    "id": "33m5cg2UIl-F"
   },
   "source": [
    "Let's check that the KL is coded properly.\n",
    "\n",
    "For instance, noting $$q_0(f) = N(f|0, I)$$ and $$q_1(f) = N(f|0, 2I)$$ \n",
    "we should have:\n",
    "$$KL[q_0||q_0] = 0$$\n",
    "$$KL[q_0||q_1] > 0$$\n",
    "\n"
   ]
  },
  {
   "cell_type": "code",
   "execution_count": 21,
   "metadata": {
    "id": "7tl6dFfAJQz5"
   },
   "outputs": [
    {
     "output_type": "stream",
     "name": "stdout",
     "text": [
      "tf.Tensor(0.0, shape=(), dtype=float64)\ntf.Tensor(0.9657359027997261, shape=(), dtype=float64)\n"
     ]
    }
   ],
   "source": [
    "K = 10\n",
    "m_0 = m_1 = np.zeros((K,1))\n",
    "L_0 = np.eye(K)\n",
    "L_1 = np.sqrt(2.) * np.eye(K)\n",
    "assert KL(m_0, L_0, m_0, L_0) == 0\n",
    "assert KL(m_0, L_0, m_1, L_1) >= 0\n",
    "\n",
    "print(KL(m_0, L_0, m_0, L_0))\n",
    "print(KL(m_0, L_0, m_1, L_1))"
   ]
  },
  {
   "cell_type": "markdown",
   "metadata": {
    "id": "w9zp6Q-W66-a"
   },
   "source": [
    "### Task 1b: Variational expectations\n",
    "\n",
    "To compute the variational expectations $\\mathbb{E}_{q(f_n)} \\log p(y_n|f_n)$, we first need to compute the marginal distribution $q(f_n)$ and then compute the expectation.\n"
   ]
  },
  {
   "cell_type": "code",
   "execution_count": 27,
   "metadata": {
    "id": "onU4NYnp66-b"
   },
   "outputs": [],
   "source": [
    "def q_marginals(m, L):\n",
    "    \"\"\" returns the vectors of marginal means and marginal variances\n",
    "    i.e, the means and variances of q(f_n)\n",
    "    \n",
    "    Hint: You may want to use the tf.reduce_sum\n",
    "    \n",
    "    arguments:\n",
    "    m   -- N x 1, mean vector\n",
    "    L   -- N x N, Cholesky factor of a covariance matrix \n",
    "    returns : 2 N x 1 vectors\n",
    "    \"\"\"\n",
    "    \n",
    "    ###############################################\n",
    "    marginal_variances = tf.reduce_sum(L**2, axis=1, keepdims=True)\n",
    "    return m, marginal_variances\n",
    "    ###############################################\n",
    "\n"
   ]
  },
  {
   "cell_type": "markdown",
   "metadata": {},
   "source": [
    "$$phi(x) = int_{-\\infty, x} N(u| 0, 1) du$$"
   ]
  },
  {
   "cell_type": "code",
   "execution_count": 31,
   "metadata": {
    "id": "qq0NMMtr66-d"
   },
   "outputs": [],
   "source": [
    "def phi(x):\n",
    "    \"\"\" Cumulative distribution function for the standard normal distribution \n",
    "    Hint: you may want to use the error function. (tf.math.erf if using tensorflow)\n",
    "\n",
    "    phi(x) = int_{-\\infty, x} N(u| 0, 1) du    \n",
    "    \"\"\"\n",
    "    ###############################################\n",
    "    theta = tf.constant(np.sqrt(2.0), dtype=tf.float64)\n",
    "    return 0.5 * (1 + tf.math.erf(x/theta))\n",
    "    ###############################################\n",
    "    \n",
    "def classif_log_likelihood(f, y):\n",
    "    \"\"\" log p(y|f) for classification using the normal cdf \n",
    "        log p(y|f) = log phi(y * f)\n",
    "    \"\"\"\n",
    "    ###############################################\n",
    "    tmp = phi(tf.math.multiply(y,f))\n",
    "    assert tmp > 0\n",
    "    return tf.math.log()\n",
    "    ###############################################\n",
    "\n",
    "\n",
    "    \n",
    "# --------------------------------------\n",
    "# The next function is given to you.\n",
    "# It approximates E_q(f_n) log p(y_n|f_n) via Gaussian quadrature\n",
    "# see: https://en.wikipedia.org/wiki/Gauss%E2%80%93Hermite_quadrature\n",
    "# --------------------------------------\n",
    "def expected_log_likelihood(\n",
    "    means, covs, llh, y, n_gh=10):\n",
    "    \"\"\" returns the expected log likelihood terms\n",
    "    \n",
    "    E_q(f_n) log p(y_n|f_n)\n",
    "    \n",
    "    This is a quadrature approximation, \n",
    "    turning the integral into a sum.\n",
    "        \n",
    "    arguments:\n",
    "    means  -- N x 1, vector of means\n",
    "    covs  -- N x 1, vector of covariances \n",
    "    llh -- log likelihood function\n",
    "    y  -- N x 1, vector of observed labels \n",
    "    \"\"\"\n",
    "    z, dz = np.polynomial.hermite.hermgauss(n_gh)\n",
    "    weights = (dz / np.sqrt(np.pi)).reshape(1, -1) # 1 x n_gh \n",
    "    inputs = means + tf.sqrt(2 * covs) * z.reshape(1, -1) # N x n_gh\n",
    "    llh_quad = weights * llh(inputs, y) # N x n_gh\n",
    "\n",
    "    # 'tf.reduce_sum' is tensorflow's summing function, \n",
    "    # replace if using another framework  \n",
    "    return tf.reduce_sum(llh_quad, axis=1) # N, "
   ]
  },
  {
   "cell_type": "markdown",
   "metadata": {
    "id": "JUCd3aeN66-e"
   },
   "source": [
    "### Task 1c: ELBO\n",
    "\n",
    "We are now ready to implement the ELBO as the difference between the variational expectations and the KL divergence:\n",
    "\n",
    "$${\\cal L}(q) = \\underbrace{\\mathbb{E}_q \\log p({\\bf y}|{\\bf f})}_{VE} - \\underbrace{KL(q({\\bf f})||p({\\bf f}))}_{KL} $$\n",
    "\n",
    "$$L = \\sum_n E_q(f_n) log p(y_n|f_n) + KL(q(f)||p(f))$$\n",
    "\n"
   ]
  },
  {
   "cell_type": "code",
   "execution_count": 24,
   "metadata": {
    "id": "D_XH9m0U66-e"
   },
   "outputs": [],
   "source": [
    "def elbo(m_p, L_p, m_q, L_q, y):\n",
    "    \"\"\" returns ELBO\n",
    "    L = \\sum_n E_q(f_n) log p(y_n|f_n)\n",
    "        + KL(q(f)||p(f))\n",
    "        \n",
    "    (See slides of lecture 4 for closed form solution)\n",
    "    \n",
    "    arguments:\n",
    "    L_p, L_q  -- N x N, Cholesky factors of the covariances of p and q\n",
    "    m_p, m_q -- N x 1, mean vector of p and q\n",
    "    returns: a scalar\n",
    "    \"\"\"\n",
    "    \n",
    "    kl = KL(m_q, L_q, m_p, L_p)\n",
    "    assert kl >= 0\n",
    "    marginal_means, marginal_covs = q_marginals(m_q,L_q)\n",
    "    ve = expected_log_likelihood(marginal_means, marginal_covs, classif_log_likelihood, y)\n",
    "\n",
    "    return tf.reduce_sum(ve) - kl\n",
    "    ###############################################\n",
    "    # ------- insert code here -------------------\n",
    "    ###############################################\n",
    "\n",
    "\n",
    "    \n",
    "    "
   ]
  },
  {
   "cell_type": "markdown",
   "metadata": {
    "id": "3fRRI2op66-f"
   },
   "source": [
    "### Task 1d: Inference as optimization\n",
    "\n",
    "We are now ready to optimize the ELBO.\n",
    "We will first load some data"
   ]
  },
  {
   "cell_type": "code",
   "execution_count": 8,
   "metadata": {
    "colab": {
     "base_uri": "https://localhost:8080/",
     "height": 324
    },
    "id": "jT-nKs_w66-g",
    "outputId": "e796e8c9-e51c-4b65-ae90-b37ae9729e5c"
   },
   "outputs": [
    {
     "output_type": "display_data",
     "data": {
      "text/plain": "<Figure size 432x288 with 1 Axes>",
      "image/svg+xml": "<?xml version=\"1.0\" encoding=\"utf-8\" standalone=\"no\"?>\r\n<!DOCTYPE svg PUBLIC \"-//W3C//DTD SVG 1.1//EN\"\r\n  \"http://www.w3.org/Graphics/SVG/1.1/DTD/svg11.dtd\">\r\n<!-- Created with matplotlib (https://matplotlib.org/) -->\r\n<svg height=\"288.232187pt\" version=\"1.1\" viewBox=\"0 0 399 288.232187\" width=\"399pt\" xmlns=\"http://www.w3.org/2000/svg\" xmlns:xlink=\"http://www.w3.org/1999/xlink\">\r\n <metadata>\r\n  <rdf:RDF xmlns:cc=\"http://creativecommons.org/ns#\" xmlns:dc=\"http://purl.org/dc/elements/1.1/\" xmlns:rdf=\"http://www.w3.org/1999/02/22-rdf-syntax-ns#\">\r\n   <cc:Work>\r\n    <dc:type rdf:resource=\"http://purl.org/dc/dcmitype/StillImage\"/>\r\n    <dc:date>2021-02-03T18:46:01.649911</dc:date>\r\n    <dc:format>image/svg+xml</dc:format>\r\n    <dc:creator>\r\n     <cc:Agent>\r\n      <dc:title>Matplotlib v3.3.2, https://matplotlib.org/</dc:title>\r\n     </cc:Agent>\r\n    </dc:creator>\r\n   </cc:Work>\r\n  </rdf:RDF>\r\n </metadata>\r\n <defs>\r\n  <style type=\"text/css\">*{stroke-linecap:butt;stroke-linejoin:round;}</style>\r\n </defs>\r\n <g id=\"figure_1\">\r\n  <g id=\"patch_1\">\r\n   <path d=\"M 0 288.232187 \r\nL 399 288.232187 \r\nL 399 0 \r\nL 0 0 \r\nz\r\n\" style=\"fill:none;\"/>\r\n  </g>\r\n  <g id=\"axes_1\">\r\n   <g id=\"patch_2\">\r\n    <path d=\"M 57 245.836875 \r\nL 391.8 245.836875 \r\nL 391.8 28.396875 \r\nL 57 28.396875 \r\nz\r\n\" style=\"fill:#ffffff;\"/>\r\n   </g>\r\n   <g id=\"PathCollection_1\">\r\n    <defs>\r\n     <path d=\"M 0 3 \r\nC 0.795609 3 1.55874 2.683901 2.12132 2.12132 \r\nC 2.683901 1.55874 3 0.795609 3 -0 \r\nC 3 -0.795609 2.683901 -1.55874 2.12132 -2.12132 \r\nC 1.55874 -2.683901 0.795609 -3 0 -3 \r\nC -0.795609 -3 -1.55874 -2.683901 -2.12132 -2.12132 \r\nC -2.683901 -1.55874 -3 -0.795609 -3 0 \r\nC -3 0.795609 -2.683901 1.55874 -2.12132 2.12132 \r\nC -1.55874 2.683901 -0.795609 3 0 3 \r\nz\r\n\" id=\"C0_0_00e5e1eb9e\"/>\r\n    </defs>\r\n    <g clip-path=\"url(#pbe332041e8)\">\r\n     <use style=\"fill:#440154;stroke:#440154;\" x=\"286.448381\" xlink:href=\"#C0_0_00e5e1eb9e\" y=\"150.991465\"/>\r\n    </g>\r\n    <g clip-path=\"url(#pbe332041e8)\">\r\n     <use style=\"fill:#fde725;stroke:#fde725;\" x=\"112.712915\" xlink:href=\"#C0_0_00e5e1eb9e\" y=\"206.489824\"/>\r\n    </g>\r\n    <g clip-path=\"url(#pbe332041e8)\">\r\n     <use style=\"fill:#440154;stroke:#440154;\" x=\"143.410535\" xlink:href=\"#C0_0_00e5e1eb9e\" y=\"106.314214\"/>\r\n    </g>\r\n    <g clip-path=\"url(#pbe332041e8)\">\r\n     <use style=\"fill:#fde725;stroke:#fde725;\" x=\"152.162622\" xlink:href=\"#C0_0_00e5e1eb9e\" y=\"123.617274\"/>\r\n    </g>\r\n    <g clip-path=\"url(#pbe332041e8)\">\r\n     <use style=\"fill:#fde725;stroke:#fde725;\" x=\"140.797971\" xlink:href=\"#C0_0_00e5e1eb9e\" y=\"121.47448\"/>\r\n    </g>\r\n    <g clip-path=\"url(#pbe332041e8)\">\r\n     <use style=\"fill:#fde725;stroke:#fde725;\" x=\"173.846898\" xlink:href=\"#C0_0_00e5e1eb9e\" y=\"139.865008\"/>\r\n    </g>\r\n    <g clip-path=\"url(#pbe332041e8)\">\r\n     <use style=\"fill:#440154;stroke:#440154;\" x=\"331.515099\" xlink:href=\"#C0_0_00e5e1eb9e\" y=\"120.670933\"/>\r\n    </g>\r\n    <g clip-path=\"url(#pbe332041e8)\">\r\n     <use style=\"fill:#fde725;stroke:#fde725;\" x=\"130.347718\" xlink:href=\"#C0_0_00e5e1eb9e\" y=\"160.205478\"/>\r\n    </g>\r\n    <g clip-path=\"url(#pbe332041e8)\">\r\n     <use style=\"fill:#fde725;stroke:#fde725;\" x=\"323.024268\" xlink:href=\"#C0_0_00e5e1eb9e\" y=\"80.06499\"/>\r\n    </g>\r\n    <g clip-path=\"url(#pbe332041e8)\">\r\n     <use style=\"fill:#fde725;stroke:#fde725;\" x=\"180.508935\" xlink:href=\"#C0_0_00e5e1eb9e\" y=\"170.865877\"/>\r\n    </g>\r\n    <g clip-path=\"url(#pbe332041e8)\">\r\n     <use style=\"fill:#440154;stroke:#440154;\" x=\"328.902536\" xlink:href=\"#C0_0_00e5e1eb9e\" y=\"169.473061\"/>\r\n    </g>\r\n    <g clip-path=\"url(#pbe332041e8)\">\r\n     <use style=\"fill:#440154;stroke:#440154;\" x=\"204.022005\" xlink:href=\"#C0_0_00e5e1eb9e\" y=\"188.168937\"/>\r\n    </g>\r\n    <g clip-path=\"url(#pbe332041e8)\">\r\n     <use style=\"fill:#fde725;stroke:#fde725;\" x=\"217.274233\" xlink:href=\"#C0_0_00e5e1eb9e\" y=\"41.494702\"/>\r\n    </g>\r\n    <g clip-path=\"url(#pbe332041e8)\">\r\n     <use style=\"fill:#fde725;stroke:#fde725;\" x=\"176.655404\" xlink:href=\"#C0_0_00e5e1eb9e\" y=\"162.669691\"/>\r\n    </g>\r\n    <g clip-path=\"url(#pbe332041e8)\">\r\n     <use style=\"fill:#440154;stroke:#440154;\" x=\"145.369957\" xlink:href=\"#C0_0_00e5e1eb9e\" y=\"111.724769\"/>\r\n    </g>\r\n    <g clip-path=\"url(#pbe332041e8)\">\r\n     <use style=\"fill:#440154;stroke:#440154;\" x=\"161.829107\" xlink:href=\"#C0_0_00e5e1eb9e\" y=\"200.597141\"/>\r\n    </g>\r\n    <g clip-path=\"url(#pbe332041e8)\">\r\n     <use style=\"fill:#fde725;stroke:#fde725;\" x=\"101.60952\" xlink:href=\"#C0_0_00e5e1eb9e\" y=\"147.354072\"/>\r\n    </g>\r\n    <g clip-path=\"url(#pbe332041e8)\">\r\n     <use style=\"fill:#fde725;stroke:#fde725;\" x=\"294.286071\" xlink:href=\"#C0_0_00e5e1eb9e\" y=\"80.06499\"/>\r\n    </g>\r\n    <g clip-path=\"url(#pbe332041e8)\">\r\n     <use style=\"fill:#440154;stroke:#440154;\" x=\"259.277721\" xlink:href=\"#C0_0_00e5e1eb9e\" y=\"91.903926\"/>\r\n    </g>\r\n    <g clip-path=\"url(#pbe332041e8)\">\r\n     <use style=\"fill:#440154;stroke:#440154;\" x=\"240.989778\" xlink:href=\"#C0_0_00e5e1eb9e\" y=\"38.280511\"/>\r\n    </g>\r\n    <g clip-path=\"url(#pbe332041e8)\">\r\n     <use style=\"fill:#440154;stroke:#440154;\" x=\"146.023098\" xlink:href=\"#C0_0_00e5e1eb9e\" y=\"217.739491\"/>\r\n    </g>\r\n    <g clip-path=\"url(#pbe332041e8)\">\r\n     <use style=\"fill:#fde725;stroke:#fde725;\" x=\"155.624268\" xlink:href=\"#C0_0_00e5e1eb9e\" y=\"118.313859\"/>\r\n    </g>\r\n    <g clip-path=\"url(#pbe332041e8)\">\r\n     <use style=\"fill:#fde725;stroke:#fde725;\" x=\"287.754663\" xlink:href=\"#C0_0_00e5e1eb9e\" y=\"169.419491\"/>\r\n    </g>\r\n    <g clip-path=\"url(#pbe332041e8)\">\r\n     <use style=\"fill:#fde725;stroke:#fde725;\" x=\"173.128443\" xlink:href=\"#C0_0_00e5e1eb9e\" y=\"179.758471\"/>\r\n    </g>\r\n    <g clip-path=\"url(#pbe332041e8)\">\r\n     <use style=\"fill:#fde725;stroke:#fde725;\" x=\"161.698478\" xlink:href=\"#C0_0_00e5e1eb9e\" y=\"125.385079\"/>\r\n    </g>\r\n    <g clip-path=\"url(#pbe332041e8)\">\r\n     <use style=\"fill:#fde725;stroke:#fde725;\" x=\"155.101756\" xlink:href=\"#C0_0_00e5e1eb9e\" y=\"189.079624\"/>\r\n    </g>\r\n    <g clip-path=\"url(#pbe332041e8)\">\r\n     <use style=\"fill:#fde725;stroke:#fde725;\" x=\"277.043153\" xlink:href=\"#C0_0_00e5e1eb9e\" y=\"235.953239\"/>\r\n    </g>\r\n    <g clip-path=\"url(#pbe332041e8)\">\r\n     <use style=\"fill:#440154;stroke:#440154;\" x=\"295.592353\" xlink:href=\"#C0_0_00e5e1eb9e\" y=\"107.86774\"/>\r\n    </g>\r\n    <g clip-path=\"url(#pbe332041e8)\">\r\n     <use style=\"fill:#440154;stroke:#440154;\" x=\"272.405853\" xlink:href=\"#C0_0_00e5e1eb9e\" y=\"96.939491\"/>\r\n    </g>\r\n    <g clip-path=\"url(#pbe332041e8)\">\r\n     <use style=\"fill:#440154;stroke:#440154;\" x=\"167.119547\" xlink:href=\"#C0_0_00e5e1eb9e\" y=\"213.989602\"/>\r\n    </g>\r\n    <g clip-path=\"url(#pbe332041e8)\">\r\n     <use style=\"fill:#fde725;stroke:#fde725;\" x=\"325.636832\" xlink:href=\"#C0_0_00e5e1eb9e\" y=\"93.243172\"/>\r\n    </g>\r\n    <g clip-path=\"url(#pbe332041e8)\">\r\n     <use style=\"fill:#fde725;stroke:#fde725;\" x=\"289.060944\" xlink:href=\"#C0_0_00e5e1eb9e\" y=\"162.8304\"/>\r\n    </g>\r\n    <g clip-path=\"url(#pbe332041e8)\">\r\n     <use style=\"fill:#fde725;stroke:#fde725;\" x=\"376.581818\" xlink:href=\"#C0_0_00e5e1eb9e\" y=\"68.279624\"/>\r\n    </g>\r\n    <g clip-path=\"url(#pbe332041e8)\">\r\n     <use style=\"fill:#440154;stroke:#440154;\" x=\"323.677409\" xlink:href=\"#C0_0_00e5e1eb9e\" y=\"147.241576\"/>\r\n    </g>\r\n    <g clip-path=\"url(#pbe332041e8)\">\r\n     <use style=\"fill:#fde725;stroke:#fde725;\" x=\"229.690441\" xlink:href=\"#C0_0_00e5e1eb9e\" y=\"176.544281\"/>\r\n    </g>\r\n    <g clip-path=\"url(#pbe332041e8)\">\r\n     <use style=\"fill:#440154;stroke:#440154;\" x=\"285.142099\" xlink:href=\"#C0_0_00e5e1eb9e\" y=\"111.34978\"/>\r\n    </g>\r\n    <g clip-path=\"url(#pbe332041e8)\">\r\n     <use style=\"fill:#440154;stroke:#440154;\" x=\"296.898634\" xlink:href=\"#C0_0_00e5e1eb9e\" y=\"134.384813\"/>\r\n    </g>\r\n    <g clip-path=\"url(#pbe332041e8)\">\r\n     <use style=\"fill:#fde725;stroke:#fde725;\" x=\"108.140929\" xlink:href=\"#C0_0_00e5e1eb9e\" y=\"181.311997\"/>\r\n    </g>\r\n    <g clip-path=\"url(#pbe332041e8)\">\r\n     <use style=\"fill:#fde725;stroke:#fde725;\" x=\"238.638471\" xlink:href=\"#C0_0_00e5e1eb9e\" y=\"141.279252\"/>\r\n    </g>\r\n    <g clip-path=\"url(#pbe332041e8)\">\r\n     <use style=\"fill:#440154;stroke:#440154;\" x=\"285.79524\" xlink:href=\"#C0_0_00e5e1eb9e\" y=\"65.601132\"/>\r\n    </g>\r\n    <g clip-path=\"url(#pbe332041e8)\">\r\n     <use style=\"fill:#440154;stroke:#440154;\" x=\"261.824971\" xlink:href=\"#C0_0_00e5e1eb9e\" y=\"95.546675\"/>\r\n    </g>\r\n    <g clip-path=\"url(#pbe332041e8)\">\r\n     <use style=\"fill:#440154;stroke:#440154;\" x=\"119.897464\" xlink:href=\"#C0_0_00e5e1eb9e\" y=\"85.421975\"/>\r\n    </g>\r\n    <g clip-path=\"url(#pbe332041e8)\">\r\n     <use style=\"fill:#440154;stroke:#440154;\" x=\"163.00476\" xlink:href=\"#C0_0_00e5e1eb9e\" y=\"192.079536\"/>\r\n    </g>\r\n    <g clip-path=\"url(#pbe332041e8)\">\r\n     <use style=\"fill:#440154;stroke:#440154;\" x=\"287.754663\" xlink:href=\"#C0_0_00e5e1eb9e\" y=\"92.493194\"/>\r\n    </g>\r\n    <g clip-path=\"url(#pbe332041e8)\">\r\n     <use style=\"fill:#440154;stroke:#440154;\" x=\"285.79524\" xlink:href=\"#C0_0_00e5e1eb9e\" y=\"123.188715\"/>\r\n    </g>\r\n    <g clip-path=\"url(#pbe332041e8)\">\r\n     <use style=\"fill:#440154;stroke:#440154;\" x=\"177.896371\" xlink:href=\"#C0_0_00e5e1eb9e\" y=\"216.668095\"/>\r\n    </g>\r\n    <g clip-path=\"url(#pbe332041e8)\">\r\n     <use style=\"fill:#440154;stroke:#440154;\" x=\"119.897464\" xlink:href=\"#C0_0_00e5e1eb9e\" y=\"96.993061\"/>\r\n    </g>\r\n    <g clip-path=\"url(#pbe332041e8)\">\r\n     <use style=\"fill:#fde725;stroke:#fde725;\" x=\"212.579457\" xlink:href=\"#C0_0_00e5e1eb9e\" y=\"168.133815\"/>\r\n    </g>\r\n    <g clip-path=\"url(#pbe332041e8)\">\r\n     <use style=\"fill:#fde725;stroke:#fde725;\" x=\"72.218182\" xlink:href=\"#C0_0_00e5e1eb9e\" y=\"221.489381\"/>\r\n    </g>\r\n    <g clip-path=\"url(#pbe332041e8)\">\r\n     <use style=\"fill:#440154;stroke:#440154;\" x=\"126.428872\" xlink:href=\"#C0_0_00e5e1eb9e\" y=\"77.922197\"/>\r\n    </g>\r\n   </g>\r\n   <g id=\"matplotlib.axis_1\">\r\n    <g id=\"xtick_1\">\r\n     <g id=\"line2d_1\">\r\n      <defs>\r\n       <path d=\"M 0 0 \r\nL 0 3.5 \r\n\" id=\"m5cbc9b285b\" style=\"stroke:#000000;stroke-width:0.8;\"/>\r\n      </defs>\r\n      <g>\r\n       <use style=\"stroke:#000000;stroke-width:0.8;\" x=\"81.362154\" xlink:href=\"#m5cbc9b285b\" y=\"245.836875\"/>\r\n      </g>\r\n     </g>\r\n     <g id=\"text_1\">\r\n      <!-- −2 -->\r\n      <g transform=\"translate(73.99106 260.435312)scale(0.1 -0.1)\">\r\n       <defs>\r\n        <path d=\"M 10.59375 35.5 \r\nL 73.1875 35.5 \r\nL 73.1875 27.203125 \r\nL 10.59375 27.203125 \r\nz\r\n\" id=\"DejaVuSans-8722\"/>\r\n        <path d=\"M 19.1875 8.296875 \r\nL 53.609375 8.296875 \r\nL 53.609375 0 \r\nL 7.328125 0 \r\nL 7.328125 8.296875 \r\nQ 12.9375 14.109375 22.625 23.890625 \r\nQ 32.328125 33.6875 34.8125 36.53125 \r\nQ 39.546875 41.84375 41.421875 45.53125 \r\nQ 43.3125 49.21875 43.3125 52.78125 \r\nQ 43.3125 58.59375 39.234375 62.25 \r\nQ 35.15625 65.921875 28.609375 65.921875 \r\nQ 23.96875 65.921875 18.8125 64.3125 \r\nQ 13.671875 62.703125 7.8125 59.421875 \r\nL 7.8125 69.390625 \r\nQ 13.765625 71.78125 18.9375 73 \r\nQ 24.125 74.21875 28.421875 74.21875 \r\nQ 39.75 74.21875 46.484375 68.546875 \r\nQ 53.21875 62.890625 53.21875 53.421875 \r\nQ 53.21875 48.921875 51.53125 44.890625 \r\nQ 49.859375 40.875 45.40625 35.40625 \r\nQ 44.1875 33.984375 37.640625 27.21875 \r\nQ 31.109375 20.453125 19.1875 8.296875 \r\nz\r\n\" id=\"DejaVuSans-50\"/>\r\n       </defs>\r\n       <use xlink:href=\"#DejaVuSans-8722\"/>\r\n       <use x=\"83.789062\" xlink:href=\"#DejaVuSans-50\"/>\r\n      </g>\r\n     </g>\r\n    </g>\r\n    <g id=\"xtick_2\">\r\n     <g id=\"line2d_2\">\r\n      <g>\r\n       <use style=\"stroke:#000000;stroke-width:0.8;\" x=\"146.676239\" xlink:href=\"#m5cbc9b285b\" y=\"245.836875\"/>\r\n      </g>\r\n     </g>\r\n     <g id=\"text_2\">\r\n      <!-- −1 -->\r\n      <g transform=\"translate(139.305145 260.435312)scale(0.1 -0.1)\">\r\n       <defs>\r\n        <path d=\"M 12.40625 8.296875 \r\nL 28.515625 8.296875 \r\nL 28.515625 63.921875 \r\nL 10.984375 60.40625 \r\nL 10.984375 69.390625 \r\nL 28.421875 72.90625 \r\nL 38.28125 72.90625 \r\nL 38.28125 8.296875 \r\nL 54.390625 8.296875 \r\nL 54.390625 0 \r\nL 12.40625 0 \r\nz\r\n\" id=\"DejaVuSans-49\"/>\r\n       </defs>\r\n       <use xlink:href=\"#DejaVuSans-8722\"/>\r\n       <use x=\"83.789062\" xlink:href=\"#DejaVuSans-49\"/>\r\n      </g>\r\n     </g>\r\n    </g>\r\n    <g id=\"xtick_3\">\r\n     <g id=\"line2d_3\">\r\n      <g>\r\n       <use style=\"stroke:#000000;stroke-width:0.8;\" x=\"211.990324\" xlink:href=\"#m5cbc9b285b\" y=\"245.836875\"/>\r\n      </g>\r\n     </g>\r\n     <g id=\"text_3\">\r\n      <!-- 0 -->\r\n      <g transform=\"translate(208.809074 260.435312)scale(0.1 -0.1)\">\r\n       <defs>\r\n        <path d=\"M 31.78125 66.40625 \r\nQ 24.171875 66.40625 20.328125 58.90625 \r\nQ 16.5 51.421875 16.5 36.375 \r\nQ 16.5 21.390625 20.328125 13.890625 \r\nQ 24.171875 6.390625 31.78125 6.390625 \r\nQ 39.453125 6.390625 43.28125 13.890625 \r\nQ 47.125 21.390625 47.125 36.375 \r\nQ 47.125 51.421875 43.28125 58.90625 \r\nQ 39.453125 66.40625 31.78125 66.40625 \r\nz\r\nM 31.78125 74.21875 \r\nQ 44.046875 74.21875 50.515625 64.515625 \r\nQ 56.984375 54.828125 56.984375 36.375 \r\nQ 56.984375 17.96875 50.515625 8.265625 \r\nQ 44.046875 -1.421875 31.78125 -1.421875 \r\nQ 19.53125 -1.421875 13.0625 8.265625 \r\nQ 6.59375 17.96875 6.59375 36.375 \r\nQ 6.59375 54.828125 13.0625 64.515625 \r\nQ 19.53125 74.21875 31.78125 74.21875 \r\nz\r\n\" id=\"DejaVuSans-48\"/>\r\n       </defs>\r\n       <use xlink:href=\"#DejaVuSans-48\"/>\r\n      </g>\r\n     </g>\r\n    </g>\r\n    <g id=\"xtick_4\">\r\n     <g id=\"line2d_4\">\r\n      <g>\r\n       <use style=\"stroke:#000000;stroke-width:0.8;\" x=\"277.304409\" xlink:href=\"#m5cbc9b285b\" y=\"245.836875\"/>\r\n      </g>\r\n     </g>\r\n     <g id=\"text_4\">\r\n      <!-- 1 -->\r\n      <g transform=\"translate(274.123159 260.435312)scale(0.1 -0.1)\">\r\n       <use xlink:href=\"#DejaVuSans-49\"/>\r\n      </g>\r\n     </g>\r\n    </g>\r\n    <g id=\"xtick_5\">\r\n     <g id=\"line2d_5\">\r\n      <g>\r\n       <use style=\"stroke:#000000;stroke-width:0.8;\" x=\"342.618494\" xlink:href=\"#m5cbc9b285b\" y=\"245.836875\"/>\r\n      </g>\r\n     </g>\r\n     <g id=\"text_5\">\r\n      <!-- 2 -->\r\n      <g transform=\"translate(339.437244 260.435312)scale(0.1 -0.1)\">\r\n       <use xlink:href=\"#DejaVuSans-50\"/>\r\n      </g>\r\n     </g>\r\n    </g>\r\n    <g id=\"text_6\">\r\n     <!-- $x_1$ -->\r\n     <g transform=\"translate(216.375 277.912656)scale(0.15 -0.15)\">\r\n      <defs>\r\n       <path d=\"M 60.015625 54.6875 \r\nL 34.90625 27.875 \r\nL 50.296875 0 \r\nL 39.984375 0 \r\nL 28.421875 21.6875 \r\nL 8.296875 0 \r\nL -2.59375 0 \r\nL 24.3125 28.8125 \r\nL 10.015625 54.6875 \r\nL 20.3125 54.6875 \r\nL 30.8125 34.90625 \r\nL 49.125 54.6875 \r\nz\r\n\" id=\"DejaVuSans-Oblique-120\"/>\r\n      </defs>\r\n      <use transform=\"translate(0 0.3125)\" xlink:href=\"#DejaVuSans-Oblique-120\"/>\r\n      <use transform=\"translate(59.179688 -16.09375)scale(0.7)\" xlink:href=\"#DejaVuSans-49\"/>\r\n     </g>\r\n    </g>\r\n   </g>\r\n   <g id=\"matplotlib.axis_2\">\r\n    <g id=\"ytick_1\">\r\n     <g id=\"line2d_6\">\r\n      <defs>\r\n       <path d=\"M 0 0 \r\nL -3.5 0 \r\n\" id=\"mb59b2f1783\" style=\"stroke:#000000;stroke-width:0.8;\"/>\r\n      </defs>\r\n      <g>\r\n       <use style=\"stroke:#000000;stroke-width:0.8;\" x=\"57\" xlink:href=\"#mb59b2f1783\" y=\"225.23927\"/>\r\n      </g>\r\n     </g>\r\n     <g id=\"text_7\">\r\n      <!-- −1.5 -->\r\n      <g transform=\"translate(25.717187 229.038488)scale(0.1 -0.1)\">\r\n       <defs>\r\n        <path d=\"M 10.6875 12.40625 \r\nL 21 12.40625 \r\nL 21 0 \r\nL 10.6875 0 \r\nz\r\n\" id=\"DejaVuSans-46\"/>\r\n        <path d=\"M 10.796875 72.90625 \r\nL 49.515625 72.90625 \r\nL 49.515625 64.59375 \r\nL 19.828125 64.59375 \r\nL 19.828125 46.734375 \r\nQ 21.96875 47.46875 24.109375 47.828125 \r\nQ 26.265625 48.1875 28.421875 48.1875 \r\nQ 40.625 48.1875 47.75 41.5 \r\nQ 54.890625 34.8125 54.890625 23.390625 \r\nQ 54.890625 11.625 47.5625 5.09375 \r\nQ 40.234375 -1.421875 26.90625 -1.421875 \r\nQ 22.3125 -1.421875 17.546875 -0.640625 \r\nQ 12.796875 0.140625 7.71875 1.703125 \r\nL 7.71875 11.625 \r\nQ 12.109375 9.234375 16.796875 8.0625 \r\nQ 21.484375 6.890625 26.703125 6.890625 \r\nQ 35.15625 6.890625 40.078125 11.328125 \r\nQ 45.015625 15.765625 45.015625 23.390625 \r\nQ 45.015625 31 40.078125 35.4375 \r\nQ 35.15625 39.890625 26.703125 39.890625 \r\nQ 22.75 39.890625 18.8125 39.015625 \r\nQ 14.890625 38.140625 10.796875 36.28125 \r\nz\r\n\" id=\"DejaVuSans-53\"/>\r\n       </defs>\r\n       <use xlink:href=\"#DejaVuSans-8722\"/>\r\n       <use x=\"83.789062\" xlink:href=\"#DejaVuSans-49\"/>\r\n       <use x=\"147.412109\" xlink:href=\"#DejaVuSans-46\"/>\r\n       <use x=\"179.199219\" xlink:href=\"#DejaVuSans-53\"/>\r\n      </g>\r\n     </g>\r\n    </g>\r\n    <g id=\"ytick_2\">\r\n     <g id=\"line2d_7\">\r\n      <g>\r\n       <use style=\"stroke:#000000;stroke-width:0.8;\" x=\"57\" xlink:href=\"#mb59b2f1783\" y=\"198.454347\"/>\r\n      </g>\r\n     </g>\r\n     <g id=\"text_8\">\r\n      <!-- −1.0 -->\r\n      <g transform=\"translate(25.717187 202.253566)scale(0.1 -0.1)\">\r\n       <use xlink:href=\"#DejaVuSans-8722\"/>\r\n       <use x=\"83.789062\" xlink:href=\"#DejaVuSans-49\"/>\r\n       <use x=\"147.412109\" xlink:href=\"#DejaVuSans-46\"/>\r\n       <use x=\"179.199219\" xlink:href=\"#DejaVuSans-48\"/>\r\n      </g>\r\n     </g>\r\n    </g>\r\n    <g id=\"ytick_3\">\r\n     <g id=\"line2d_8\">\r\n      <g>\r\n       <use style=\"stroke:#000000;stroke-width:0.8;\" x=\"57\" xlink:href=\"#mb59b2f1783\" y=\"171.669425\"/>\r\n      </g>\r\n     </g>\r\n     <g id=\"text_9\">\r\n      <!-- −0.5 -->\r\n      <g transform=\"translate(25.717187 175.468644)scale(0.1 -0.1)\">\r\n       <use xlink:href=\"#DejaVuSans-8722\"/>\r\n       <use x=\"83.789062\" xlink:href=\"#DejaVuSans-48\"/>\r\n       <use x=\"147.412109\" xlink:href=\"#DejaVuSans-46\"/>\r\n       <use x=\"179.199219\" xlink:href=\"#DejaVuSans-53\"/>\r\n      </g>\r\n     </g>\r\n    </g>\r\n    <g id=\"ytick_4\">\r\n     <g id=\"line2d_9\">\r\n      <g>\r\n       <use style=\"stroke:#000000;stroke-width:0.8;\" x=\"57\" xlink:href=\"#mb59b2f1783\" y=\"144.884502\"/>\r\n      </g>\r\n     </g>\r\n     <g id=\"text_10\">\r\n      <!-- 0.0 -->\r\n      <g transform=\"translate(34.096875 148.683721)scale(0.1 -0.1)\">\r\n       <use xlink:href=\"#DejaVuSans-48\"/>\r\n       <use x=\"63.623047\" xlink:href=\"#DejaVuSans-46\"/>\r\n       <use x=\"95.410156\" xlink:href=\"#DejaVuSans-48\"/>\r\n      </g>\r\n     </g>\r\n    </g>\r\n    <g id=\"ytick_5\">\r\n     <g id=\"line2d_10\">\r\n      <g>\r\n       <use style=\"stroke:#000000;stroke-width:0.8;\" x=\"57\" xlink:href=\"#mb59b2f1783\" y=\"118.09958\"/>\r\n      </g>\r\n     </g>\r\n     <g id=\"text_11\">\r\n      <!-- 0.5 -->\r\n      <g transform=\"translate(34.096875 121.898799)scale(0.1 -0.1)\">\r\n       <use xlink:href=\"#DejaVuSans-48\"/>\r\n       <use x=\"63.623047\" xlink:href=\"#DejaVuSans-46\"/>\r\n       <use x=\"95.410156\" xlink:href=\"#DejaVuSans-53\"/>\r\n      </g>\r\n     </g>\r\n    </g>\r\n    <g id=\"ytick_6\">\r\n     <g id=\"line2d_11\">\r\n      <g>\r\n       <use style=\"stroke:#000000;stroke-width:0.8;\" x=\"57\" xlink:href=\"#mb59b2f1783\" y=\"91.314658\"/>\r\n      </g>\r\n     </g>\r\n     <g id=\"text_12\">\r\n      <!-- 1.0 -->\r\n      <g transform=\"translate(34.096875 95.113876)scale(0.1 -0.1)\">\r\n       <use xlink:href=\"#DejaVuSans-49\"/>\r\n       <use x=\"63.623047\" xlink:href=\"#DejaVuSans-46\"/>\r\n       <use x=\"95.410156\" xlink:href=\"#DejaVuSans-48\"/>\r\n      </g>\r\n     </g>\r\n    </g>\r\n    <g id=\"ytick_7\">\r\n     <g id=\"line2d_12\">\r\n      <g>\r\n       <use style=\"stroke:#000000;stroke-width:0.8;\" x=\"57\" xlink:href=\"#mb59b2f1783\" y=\"64.529735\"/>\r\n      </g>\r\n     </g>\r\n     <g id=\"text_13\">\r\n      <!-- 1.5 -->\r\n      <g transform=\"translate(34.096875 68.328954)scale(0.1 -0.1)\">\r\n       <use xlink:href=\"#DejaVuSans-49\"/>\r\n       <use x=\"63.623047\" xlink:href=\"#DejaVuSans-46\"/>\r\n       <use x=\"95.410156\" xlink:href=\"#DejaVuSans-53\"/>\r\n      </g>\r\n     </g>\r\n    </g>\r\n    <g id=\"ytick_8\">\r\n     <g id=\"line2d_13\">\r\n      <g>\r\n       <use style=\"stroke:#000000;stroke-width:0.8;\" x=\"57\" xlink:href=\"#mb59b2f1783\" y=\"37.744813\"/>\r\n      </g>\r\n     </g>\r\n     <g id=\"text_14\">\r\n      <!-- 2.0 -->\r\n      <g transform=\"translate(34.096875 41.544032)scale(0.1 -0.1)\">\r\n       <use xlink:href=\"#DejaVuSans-50\"/>\r\n       <use x=\"63.623047\" xlink:href=\"#DejaVuSans-46\"/>\r\n       <use x=\"95.410156\" xlink:href=\"#DejaVuSans-48\"/>\r\n      </g>\r\n     </g>\r\n    </g>\r\n    <g id=\"text_15\">\r\n     <!-- $x_2$ -->\r\n     <g transform=\"translate(18.597656 145.141875)rotate(-90)scale(0.15 -0.15)\">\r\n      <use transform=\"translate(0 0.3125)\" xlink:href=\"#DejaVuSans-Oblique-120\"/>\r\n      <use transform=\"translate(59.179688 -16.09375)scale(0.7)\" xlink:href=\"#DejaVuSans-50\"/>\r\n     </g>\r\n    </g>\r\n   </g>\r\n   <g id=\"patch_3\">\r\n    <path d=\"M 57 245.836875 \r\nL 57 28.396875 \r\n\" style=\"fill:none;stroke:#000000;stroke-linecap:square;stroke-linejoin:miter;stroke-width:0.8;\"/>\r\n   </g>\r\n   <g id=\"patch_4\">\r\n    <path d=\"M 391.8 245.836875 \r\nL 391.8 28.396875 \r\n\" style=\"fill:none;stroke:#000000;stroke-linecap:square;stroke-linejoin:miter;stroke-width:0.8;\"/>\r\n   </g>\r\n   <g id=\"patch_5\">\r\n    <path d=\"M 57 245.836875 \r\nL 391.8 245.836875 \r\n\" style=\"fill:none;stroke:#000000;stroke-linecap:square;stroke-linejoin:miter;stroke-width:0.8;\"/>\r\n   </g>\r\n   <g id=\"patch_6\">\r\n    <path d=\"M 57 28.396875 \r\nL 391.8 28.396875 \r\n\" style=\"fill:none;stroke:#000000;stroke-linecap:square;stroke-linejoin:miter;stroke-width:0.8;\"/>\r\n   </g>\r\n   <g id=\"text_16\">\r\n    <!-- Classification data -->\r\n    <g transform=\"translate(132.53125 22.396875)scale(0.2 -0.2)\">\r\n     <defs>\r\n      <path d=\"M 64.40625 67.28125 \r\nL 64.40625 56.890625 \r\nQ 59.421875 61.53125 53.78125 63.8125 \r\nQ 48.140625 66.109375 41.796875 66.109375 \r\nQ 29.296875 66.109375 22.65625 58.46875 \r\nQ 16.015625 50.828125 16.015625 36.375 \r\nQ 16.015625 21.96875 22.65625 14.328125 \r\nQ 29.296875 6.6875 41.796875 6.6875 \r\nQ 48.140625 6.6875 53.78125 8.984375 \r\nQ 59.421875 11.28125 64.40625 15.921875 \r\nL 64.40625 5.609375 \r\nQ 59.234375 2.09375 53.4375 0.328125 \r\nQ 47.65625 -1.421875 41.21875 -1.421875 \r\nQ 24.65625 -1.421875 15.125 8.703125 \r\nQ 5.609375 18.84375 5.609375 36.375 \r\nQ 5.609375 53.953125 15.125 64.078125 \r\nQ 24.65625 74.21875 41.21875 74.21875 \r\nQ 47.75 74.21875 53.53125 72.484375 \r\nQ 59.328125 70.75 64.40625 67.28125 \r\nz\r\n\" id=\"DejaVuSans-67\"/>\r\n      <path d=\"M 9.421875 75.984375 \r\nL 18.40625 75.984375 \r\nL 18.40625 0 \r\nL 9.421875 0 \r\nz\r\n\" id=\"DejaVuSans-108\"/>\r\n      <path d=\"M 34.28125 27.484375 \r\nQ 23.390625 27.484375 19.1875 25 \r\nQ 14.984375 22.515625 14.984375 16.5 \r\nQ 14.984375 11.71875 18.140625 8.90625 \r\nQ 21.296875 6.109375 26.703125 6.109375 \r\nQ 34.1875 6.109375 38.703125 11.40625 \r\nQ 43.21875 16.703125 43.21875 25.484375 \r\nL 43.21875 27.484375 \r\nz\r\nM 52.203125 31.203125 \r\nL 52.203125 0 \r\nL 43.21875 0 \r\nL 43.21875 8.296875 \r\nQ 40.140625 3.328125 35.546875 0.953125 \r\nQ 30.953125 -1.421875 24.3125 -1.421875 \r\nQ 15.921875 -1.421875 10.953125 3.296875 \r\nQ 6 8.015625 6 15.921875 \r\nQ 6 25.140625 12.171875 29.828125 \r\nQ 18.359375 34.515625 30.609375 34.515625 \r\nL 43.21875 34.515625 \r\nL 43.21875 35.40625 \r\nQ 43.21875 41.609375 39.140625 45 \r\nQ 35.0625 48.390625 27.6875 48.390625 \r\nQ 23 48.390625 18.546875 47.265625 \r\nQ 14.109375 46.140625 10.015625 43.890625 \r\nL 10.015625 52.203125 \r\nQ 14.9375 54.109375 19.578125 55.046875 \r\nQ 24.21875 56 28.609375 56 \r\nQ 40.484375 56 46.34375 49.84375 \r\nQ 52.203125 43.703125 52.203125 31.203125 \r\nz\r\n\" id=\"DejaVuSans-97\"/>\r\n      <path d=\"M 44.28125 53.078125 \r\nL 44.28125 44.578125 \r\nQ 40.484375 46.53125 36.375 47.5 \r\nQ 32.28125 48.484375 27.875 48.484375 \r\nQ 21.1875 48.484375 17.84375 46.4375 \r\nQ 14.5 44.390625 14.5 40.28125 \r\nQ 14.5 37.15625 16.890625 35.375 \r\nQ 19.28125 33.59375 26.515625 31.984375 \r\nL 29.59375 31.296875 \r\nQ 39.15625 29.25 43.1875 25.515625 \r\nQ 47.21875 21.78125 47.21875 15.09375 \r\nQ 47.21875 7.46875 41.1875 3.015625 \r\nQ 35.15625 -1.421875 24.609375 -1.421875 \r\nQ 20.21875 -1.421875 15.453125 -0.5625 \r\nQ 10.6875 0.296875 5.421875 2 \r\nL 5.421875 11.28125 \r\nQ 10.40625 8.6875 15.234375 7.390625 \r\nQ 20.0625 6.109375 24.8125 6.109375 \r\nQ 31.15625 6.109375 34.5625 8.28125 \r\nQ 37.984375 10.453125 37.984375 14.40625 \r\nQ 37.984375 18.0625 35.515625 20.015625 \r\nQ 33.0625 21.96875 24.703125 23.78125 \r\nL 21.578125 24.515625 \r\nQ 13.234375 26.265625 9.515625 29.90625 \r\nQ 5.8125 33.546875 5.8125 39.890625 \r\nQ 5.8125 47.609375 11.28125 51.796875 \r\nQ 16.75 56 26.8125 56 \r\nQ 31.78125 56 36.171875 55.265625 \r\nQ 40.578125 54.546875 44.28125 53.078125 \r\nz\r\n\" id=\"DejaVuSans-115\"/>\r\n      <path d=\"M 9.421875 54.6875 \r\nL 18.40625 54.6875 \r\nL 18.40625 0 \r\nL 9.421875 0 \r\nz\r\nM 9.421875 75.984375 \r\nL 18.40625 75.984375 \r\nL 18.40625 64.59375 \r\nL 9.421875 64.59375 \r\nz\r\n\" id=\"DejaVuSans-105\"/>\r\n      <path d=\"M 37.109375 75.984375 \r\nL 37.109375 68.5 \r\nL 28.515625 68.5 \r\nQ 23.6875 68.5 21.796875 66.546875 \r\nQ 19.921875 64.59375 19.921875 59.515625 \r\nL 19.921875 54.6875 \r\nL 34.71875 54.6875 \r\nL 34.71875 47.703125 \r\nL 19.921875 47.703125 \r\nL 19.921875 0 \r\nL 10.890625 0 \r\nL 10.890625 47.703125 \r\nL 2.296875 47.703125 \r\nL 2.296875 54.6875 \r\nL 10.890625 54.6875 \r\nL 10.890625 58.5 \r\nQ 10.890625 67.625 15.140625 71.796875 \r\nQ 19.390625 75.984375 28.609375 75.984375 \r\nz\r\n\" id=\"DejaVuSans-102\"/>\r\n      <path d=\"M 48.78125 52.59375 \r\nL 48.78125 44.1875 \r\nQ 44.96875 46.296875 41.140625 47.34375 \r\nQ 37.3125 48.390625 33.40625 48.390625 \r\nQ 24.65625 48.390625 19.8125 42.84375 \r\nQ 14.984375 37.3125 14.984375 27.296875 \r\nQ 14.984375 17.28125 19.8125 11.734375 \r\nQ 24.65625 6.203125 33.40625 6.203125 \r\nQ 37.3125 6.203125 41.140625 7.25 \r\nQ 44.96875 8.296875 48.78125 10.40625 \r\nL 48.78125 2.09375 \r\nQ 45.015625 0.34375 40.984375 -0.53125 \r\nQ 36.96875 -1.421875 32.421875 -1.421875 \r\nQ 20.0625 -1.421875 12.78125 6.34375 \r\nQ 5.515625 14.109375 5.515625 27.296875 \r\nQ 5.515625 40.671875 12.859375 48.328125 \r\nQ 20.21875 56 33.015625 56 \r\nQ 37.15625 56 41.109375 55.140625 \r\nQ 45.0625 54.296875 48.78125 52.59375 \r\nz\r\n\" id=\"DejaVuSans-99\"/>\r\n      <path d=\"M 18.3125 70.21875 \r\nL 18.3125 54.6875 \r\nL 36.8125 54.6875 \r\nL 36.8125 47.703125 \r\nL 18.3125 47.703125 \r\nL 18.3125 18.015625 \r\nQ 18.3125 11.328125 20.140625 9.421875 \r\nQ 21.96875 7.515625 27.59375 7.515625 \r\nL 36.8125 7.515625 \r\nL 36.8125 0 \r\nL 27.59375 0 \r\nQ 17.1875 0 13.234375 3.875 \r\nQ 9.28125 7.765625 9.28125 18.015625 \r\nL 9.28125 47.703125 \r\nL 2.6875 47.703125 \r\nL 2.6875 54.6875 \r\nL 9.28125 54.6875 \r\nL 9.28125 70.21875 \r\nz\r\n\" id=\"DejaVuSans-116\"/>\r\n      <path d=\"M 30.609375 48.390625 \r\nQ 23.390625 48.390625 19.1875 42.75 \r\nQ 14.984375 37.109375 14.984375 27.296875 \r\nQ 14.984375 17.484375 19.15625 11.84375 \r\nQ 23.34375 6.203125 30.609375 6.203125 \r\nQ 37.796875 6.203125 41.984375 11.859375 \r\nQ 46.1875 17.53125 46.1875 27.296875 \r\nQ 46.1875 37.015625 41.984375 42.703125 \r\nQ 37.796875 48.390625 30.609375 48.390625 \r\nz\r\nM 30.609375 56 \r\nQ 42.328125 56 49.015625 48.375 \r\nQ 55.71875 40.765625 55.71875 27.296875 \r\nQ 55.71875 13.875 49.015625 6.21875 \r\nQ 42.328125 -1.421875 30.609375 -1.421875 \r\nQ 18.84375 -1.421875 12.171875 6.21875 \r\nQ 5.515625 13.875 5.515625 27.296875 \r\nQ 5.515625 40.765625 12.171875 48.375 \r\nQ 18.84375 56 30.609375 56 \r\nz\r\n\" id=\"DejaVuSans-111\"/>\r\n      <path d=\"M 54.890625 33.015625 \r\nL 54.890625 0 \r\nL 45.90625 0 \r\nL 45.90625 32.71875 \r\nQ 45.90625 40.484375 42.875 44.328125 \r\nQ 39.84375 48.1875 33.796875 48.1875 \r\nQ 26.515625 48.1875 22.3125 43.546875 \r\nQ 18.109375 38.921875 18.109375 30.90625 \r\nL 18.109375 0 \r\nL 9.078125 0 \r\nL 9.078125 54.6875 \r\nL 18.109375 54.6875 \r\nL 18.109375 46.1875 \r\nQ 21.34375 51.125 25.703125 53.5625 \r\nQ 30.078125 56 35.796875 56 \r\nQ 45.21875 56 50.046875 50.171875 \r\nQ 54.890625 44.34375 54.890625 33.015625 \r\nz\r\n\" id=\"DejaVuSans-110\"/>\r\n      <path id=\"DejaVuSans-32\"/>\r\n      <path d=\"M 45.40625 46.390625 \r\nL 45.40625 75.984375 \r\nL 54.390625 75.984375 \r\nL 54.390625 0 \r\nL 45.40625 0 \r\nL 45.40625 8.203125 \r\nQ 42.578125 3.328125 38.25 0.953125 \r\nQ 33.9375 -1.421875 27.875 -1.421875 \r\nQ 17.96875 -1.421875 11.734375 6.484375 \r\nQ 5.515625 14.40625 5.515625 27.296875 \r\nQ 5.515625 40.1875 11.734375 48.09375 \r\nQ 17.96875 56 27.875 56 \r\nQ 33.9375 56 38.25 53.625 \r\nQ 42.578125 51.265625 45.40625 46.390625 \r\nz\r\nM 14.796875 27.296875 \r\nQ 14.796875 17.390625 18.875 11.75 \r\nQ 22.953125 6.109375 30.078125 6.109375 \r\nQ 37.203125 6.109375 41.296875 11.75 \r\nQ 45.40625 17.390625 45.40625 27.296875 \r\nQ 45.40625 37.203125 41.296875 42.84375 \r\nQ 37.203125 48.484375 30.078125 48.484375 \r\nQ 22.953125 48.484375 18.875 42.84375 \r\nQ 14.796875 37.203125 14.796875 27.296875 \r\nz\r\n\" id=\"DejaVuSans-100\"/>\r\n     </defs>\r\n     <use xlink:href=\"#DejaVuSans-67\"/>\r\n     <use x=\"69.824219\" xlink:href=\"#DejaVuSans-108\"/>\r\n     <use x=\"97.607422\" xlink:href=\"#DejaVuSans-97\"/>\r\n     <use x=\"158.886719\" xlink:href=\"#DejaVuSans-115\"/>\r\n     <use x=\"210.986328\" xlink:href=\"#DejaVuSans-115\"/>\r\n     <use x=\"263.085938\" xlink:href=\"#DejaVuSans-105\"/>\r\n     <use x=\"290.869141\" xlink:href=\"#DejaVuSans-102\"/>\r\n     <use x=\"326.074219\" xlink:href=\"#DejaVuSans-105\"/>\r\n     <use x=\"353.857422\" xlink:href=\"#DejaVuSans-99\"/>\r\n     <use x=\"408.837891\" xlink:href=\"#DejaVuSans-97\"/>\r\n     <use x=\"470.117188\" xlink:href=\"#DejaVuSans-116\"/>\r\n     <use x=\"509.326172\" xlink:href=\"#DejaVuSans-105\"/>\r\n     <use x=\"537.109375\" xlink:href=\"#DejaVuSans-111\"/>\r\n     <use x=\"598.291016\" xlink:href=\"#DejaVuSans-110\"/>\r\n     <use x=\"661.669922\" xlink:href=\"#DejaVuSans-32\"/>\r\n     <use x=\"693.457031\" xlink:href=\"#DejaVuSans-100\"/>\r\n     <use x=\"756.933594\" xlink:href=\"#DejaVuSans-97\"/>\r\n     <use x=\"818.212891\" xlink:href=\"#DejaVuSans-116\"/>\r\n     <use x=\"857.421875\" xlink:href=\"#DejaVuSans-97\"/>\r\n    </g>\r\n   </g>\r\n  </g>\r\n </g>\r\n <defs>\r\n  <clipPath id=\"pbe332041e8\">\r\n   <rect height=\"217.44\" width=\"334.8\" x=\"57\" y=\"28.396875\"/>\r\n  </clipPath>\r\n </defs>\r\n</svg>\r\n",
      "image/png": "[encoded data removed]"
     },
     "metadata": {
      "needs_background": "light"
     }
    }
   ],
   "source": [
    "# Loading the data\n",
    "\n",
    "import csv\n",
    "XY = []\n",
    "with open(\"banana.csv\") as csvfile:\n",
    "    reader = csv.reader(csvfile, quoting=csv.QUOTE_NONNUMERIC) # change contents to floats\n",
    "    for row in reader: # each row is a list\n",
    "        XY.append(row)\n",
    "XY = np.array(XY)\n",
    "\n",
    "# Here we select a subset of the data. (remember computations scales as N^3)\n",
    "N = 50\n",
    "X, Y = XY[:N,:-1],XY[:N,-1:]\n",
    "Y = (Y-1.5) * 2 # to be in {-1, 1}\n",
    "N = X.shape[0]\n",
    "# Plotting the data\n",
    "\n",
    "plt.scatter(X[:,0], X[:,1], c=Y)\n",
    "plt.xlabel('$x_1$', fontsize=15)\n",
    "plt.ylabel('$x_2$', fontsize=15)\n",
    "plt.title('Classification data', fontsize=20);"
   ]
  },
  {
   "cell_type": "markdown",
   "metadata": {
    "id": "tVmiRlQm66-g"
   },
   "source": [
    "#### Preparing prior statistics\n",
    "\n",
    "We need to compute the prior covariance $K_p = K_{\\bf ff}$ and its Cholesky factor $L_p = chol(K_{\\bf ff})$."
   ]
  },
  {
   "cell_type": "code",
   "execution_count": 25,
   "metadata": {
    "id": "IqSkvWnW66-h",
    "tags": []
   },
   "outputs": [],
   "source": [
    "def create_se_kernel(X1, X2, alpha=1, scale=1):\n",
    "    \"\"\" returns the NxM kernel matrix between the two sets of input X1 and X2 \n",
    "    \n",
    "    arguments:\n",
    "    X1    -- NxD matrix\n",
    "    X2    -- MxD matrix\n",
    "    alpha -- scalar\n",
    "    scale -- scalar\n",
    "    \n",
    "    returns NxM matrix\n",
    "    \"\"\"\n",
    "    kernel_matrix = np.zeros((X1.shape[0],X2.shape[0]), dtype=float)\n",
    "    for x1_idx, x1 in enumerate(X1):\n",
    "        for x2_idx, x2 in enumerate(X2):\n",
    "            # norms = np.linalg.norm(x1-x2)\n",
    "            norms = tf.reduce_sum(tf.math.square(x1-x2))\n",
    "            kernel_matrix[x1_idx][x2_idx] = (alpha * tf.math.exp(-0.5 * norms/(scale**2))).numpy()\n",
    "    return kernel_matrix\n",
    "\n",
    "\n",
    "\n",
    "# kernel parameters\n",
    "l = 0.5\n",
    "s = 0.5 # the standart deviation\n",
    "\n",
    "### computing the kernel matrix K_ff\n",
    "\n",
    "###############################################\n",
    "K_ff = create_se_kernel(X,X,l,s)\n",
    "###############################################\n",
    "\n",
    "### Computing m_p, L_p = cholesky(K_p).\n",
    "\n",
    "###############################################\n",
    "m_p = tf.constant(np.zeros(N))\n",
    "L_p = tf.constant(np.linalg.cholesky(K_ff),dtype=tf.float64,name='L_p')\n",
    "###############################################"
   ]
  },
  {
   "cell_type": "markdown",
   "metadata": {
    "id": "qqktFNQO66-j"
   },
   "source": [
    "We initialize the variational distribution to $q({\\bf f})={\\cal N}({\\bf f};0, I)$,\n",
    "then optimize the ELBO using gradient based optimization.\n",
    "\n",
    "\n",
    "Gradient based optimization refers to optimization schemes where a function $f(\\theta)$ is optimized with respect to $\\theta$ by following the gradient $\\nabla_{\\theta} f(\\theta)$.\n",
    "For example gradient descent construct a sequence of values $\\theta_t$ following\n",
    "$$\\theta_{t+1 } = \\theta_t + \\eta \\nabla_{\\theta} f(\\theta)|_{\\theta=\\theta_t}$$\n",
    "where $\\eta$ is the learning rate.\n",
    "\n",
    "\n",
    "When using an automatic differentiation framework, one does not need to manually derive the gradient (hence the 'automatic'). Such frameworks include tensorflow, jax, pytorch (pick your favorite). These are widely used to optimize the loss function of neural network models in supervised learning."
   ]
  },
  {
   "cell_type": "code",
   "execution_count": 32,
   "metadata": {
    "colab": {
     "base_uri": "https://localhost:8080/"
    },
    "id": "K2VBthKh66-k",
    "outputId": "d308dca4-4994-4456-f592-d592d75717db",
    "tags": []
   },
   "outputs": [
    {
     "output_type": "error",
     "ename": "ValueError",
     "evalue": "The truth value of an array with more than one element is ambiguous. Use a.any() or a.all()",
     "traceback": [
      "\u001b[1;31m---------------------------------------------------------------------------\u001b[0m",
      "\u001b[1;31mValueError\u001b[0m                                Traceback (most recent call last)",
      "\u001b[1;32m<ipython-input-32-378f2eef8689>\u001b[0m in \u001b[0;36m<module>\u001b[1;34m\u001b[0m\n\u001b[0;32m     24\u001b[0m \u001b[1;31m# running the optimization\u001b[0m\u001b[1;33m\u001b[0m\u001b[1;33m\u001b[0m\u001b[1;33m\u001b[0m\u001b[0m\n\u001b[0;32m     25\u001b[0m \u001b[1;32mfor\u001b[0m \u001b[0mt\u001b[0m \u001b[1;32min\u001b[0m \u001b[0mrange\u001b[0m\u001b[1;33m(\u001b[0m\u001b[0miterations\u001b[0m\u001b[1;33m)\u001b[0m\u001b[1;33m:\u001b[0m\u001b[1;33m\u001b[0m\u001b[1;33m\u001b[0m\u001b[0m\n\u001b[1;32m---> 26\u001b[1;33m     \u001b[0mtrain\u001b[0m\u001b[1;33m(\u001b[0m\u001b[0mopt\u001b[0m\u001b[1;33m,\u001b[0m \u001b[0mm_q\u001b[0m\u001b[1;33m,\u001b[0m \u001b[0mL_q\u001b[0m\u001b[1;33m)\u001b[0m\u001b[1;33m\u001b[0m\u001b[1;33m\u001b[0m\u001b[0m\n\u001b[0m\u001b[0;32m     27\u001b[0m     \u001b[1;32mif\u001b[0m \u001b[0mt\u001b[0m \u001b[1;33m%\u001b[0m \u001b[1;36m500\u001b[0m \u001b[1;33m==\u001b[0m \u001b[1;36m0\u001b[0m\u001b[1;33m:\u001b[0m\u001b[1;33m\u001b[0m\u001b[1;33m\u001b[0m\u001b[0m\n\u001b[0;32m     28\u001b[0m         \u001b[0mprint\u001b[0m\u001b[1;33m(\u001b[0m\u001b[0mt\u001b[0m\u001b[1;33m,\u001b[0m \u001b[0mloss_res\u001b[0m\u001b[1;33m[\u001b[0m\u001b[0mt\u001b[0m\u001b[1;33m]\u001b[0m\u001b[1;33m)\u001b[0m\u001b[1;33m\u001b[0m\u001b[1;33m\u001b[0m\u001b[0m\n",
      "\u001b[1;32m<ipython-input-32-378f2eef8689>\u001b[0m in \u001b[0;36mtrain\u001b[1;34m(opt, m, L)\u001b[0m\n\u001b[0;32m     13\u001b[0m     \u001b[1;32mwith\u001b[0m \u001b[0mtf\u001b[0m\u001b[1;33m.\u001b[0m\u001b[0mGradientTape\u001b[0m\u001b[1;33m(\u001b[0m\u001b[1;33m)\u001b[0m \u001b[1;32mas\u001b[0m \u001b[0mtape\u001b[0m\u001b[1;33m:\u001b[0m\u001b[1;33m\u001b[0m\u001b[1;33m\u001b[0m\u001b[0m\n\u001b[0;32m     14\u001b[0m         \u001b[0mtape\u001b[0m\u001b[1;33m.\u001b[0m\u001b[0mwatch\u001b[0m\u001b[1;33m(\u001b[0m\u001b[1;33m[\u001b[0m\u001b[0mm\u001b[0m\u001b[1;33m,\u001b[0m \u001b[0mL\u001b[0m\u001b[1;33m]\u001b[0m\u001b[1;33m)\u001b[0m\u001b[1;33m\u001b[0m\u001b[1;33m\u001b[0m\u001b[0m\n\u001b[1;32m---> 15\u001b[1;33m         \u001b[0mloss_\u001b[0m \u001b[1;33m=\u001b[0m \u001b[1;33m-\u001b[0m \u001b[0melbo\u001b[0m\u001b[1;33m(\u001b[0m\u001b[0mm_p\u001b[0m\u001b[1;33m,\u001b[0m \u001b[0mL_p\u001b[0m\u001b[1;33m,\u001b[0m \u001b[0mm\u001b[0m\u001b[1;33m,\u001b[0m \u001b[0mL\u001b[0m\u001b[1;33m,\u001b[0m \u001b[0mY\u001b[0m\u001b[1;33m)\u001b[0m\u001b[1;33m\u001b[0m\u001b[1;33m\u001b[0m\u001b[0m\n\u001b[0m\u001b[0;32m     16\u001b[0m         \u001b[0mloss_res\u001b[0m\u001b[1;33m.\u001b[0m\u001b[0mappend\u001b[0m\u001b[1;33m(\u001b[0m\u001b[0mloss_\u001b[0m\u001b[1;33m)\u001b[0m\u001b[1;33m\u001b[0m\u001b[1;33m\u001b[0m\u001b[0m\n\u001b[0;32m     17\u001b[0m     \u001b[0mgradients\u001b[0m \u001b[1;33m=\u001b[0m \u001b[0mtape\u001b[0m\u001b[1;33m.\u001b[0m\u001b[0mgradient\u001b[0m\u001b[1;33m(\u001b[0m\u001b[0mloss_\u001b[0m\u001b[1;33m,\u001b[0m \u001b[1;33m[\u001b[0m\u001b[0mm\u001b[0m\u001b[1;33m,\u001b[0m \u001b[0mL\u001b[0m\u001b[1;33m]\u001b[0m\u001b[1;33m)\u001b[0m\u001b[1;33m\u001b[0m\u001b[1;33m\u001b[0m\u001b[0m\n",
      "\u001b[1;32m<ipython-input-24-9001475da045>\u001b[0m in \u001b[0;36melbo\u001b[1;34m(m_p, L_p, m_q, L_q, y)\u001b[0m\n\u001b[0;32m     15\u001b[0m \u001b[1;33m\u001b[0m\u001b[0m\n\u001b[0;32m     16\u001b[0m     \u001b[0mmarginal_means\u001b[0m\u001b[1;33m,\u001b[0m \u001b[0mmarginal_covs\u001b[0m \u001b[1;33m=\u001b[0m \u001b[0mq_marginals\u001b[0m\u001b[1;33m(\u001b[0m\u001b[0mm_q\u001b[0m\u001b[1;33m,\u001b[0m\u001b[0mL_q\u001b[0m\u001b[1;33m)\u001b[0m\u001b[1;33m\u001b[0m\u001b[1;33m\u001b[0m\u001b[0m\n\u001b[1;32m---> 17\u001b[1;33m     \u001b[0mve\u001b[0m \u001b[1;33m=\u001b[0m \u001b[0mexpected_log_likelihood\u001b[0m\u001b[1;33m(\u001b[0m\u001b[0mmarginal_means\u001b[0m\u001b[1;33m,\u001b[0m \u001b[0mmarginal_covs\u001b[0m\u001b[1;33m,\u001b[0m \u001b[0mclassif_log_likelihood\u001b[0m\u001b[1;33m,\u001b[0m \u001b[0my\u001b[0m\u001b[1;33m)\u001b[0m\u001b[1;33m\u001b[0m\u001b[1;33m\u001b[0m\u001b[0m\n\u001b[0m\u001b[0;32m     18\u001b[0m \u001b[1;33m\u001b[0m\u001b[0m\n\u001b[0;32m     19\u001b[0m     \u001b[1;32mreturn\u001b[0m \u001b[0mtf\u001b[0m\u001b[1;33m.\u001b[0m\u001b[0mreduce_sum\u001b[0m\u001b[1;33m(\u001b[0m\u001b[0mve\u001b[0m\u001b[1;33m)\u001b[0m \u001b[1;33m-\u001b[0m \u001b[0mkl\u001b[0m\u001b[1;33m\u001b[0m\u001b[1;33m\u001b[0m\u001b[0m\n",
      "\u001b[1;32m<ipython-input-31-d9b1f1f82f9d>\u001b[0m in \u001b[0;36mexpected_log_likelihood\u001b[1;34m(means, covs, llh, y, n_gh)\u001b[0m\n\u001b[0;32m     45\u001b[0m     \u001b[0mweights\u001b[0m \u001b[1;33m=\u001b[0m \u001b[1;33m(\u001b[0m\u001b[0mdz\u001b[0m \u001b[1;33m/\u001b[0m \u001b[0mnp\u001b[0m\u001b[1;33m.\u001b[0m\u001b[0msqrt\u001b[0m\u001b[1;33m(\u001b[0m\u001b[0mnp\u001b[0m\u001b[1;33m.\u001b[0m\u001b[0mpi\u001b[0m\u001b[1;33m)\u001b[0m\u001b[1;33m)\u001b[0m\u001b[1;33m.\u001b[0m\u001b[0mreshape\u001b[0m\u001b[1;33m(\u001b[0m\u001b[1;36m1\u001b[0m\u001b[1;33m,\u001b[0m \u001b[1;33m-\u001b[0m\u001b[1;36m1\u001b[0m\u001b[1;33m)\u001b[0m \u001b[1;31m# 1 x n_gh\u001b[0m\u001b[1;33m\u001b[0m\u001b[1;33m\u001b[0m\u001b[0m\n\u001b[0;32m     46\u001b[0m     \u001b[0minputs\u001b[0m \u001b[1;33m=\u001b[0m \u001b[0mmeans\u001b[0m \u001b[1;33m+\u001b[0m \u001b[0mtf\u001b[0m\u001b[1;33m.\u001b[0m\u001b[0msqrt\u001b[0m\u001b[1;33m(\u001b[0m\u001b[1;36m2\u001b[0m \u001b[1;33m*\u001b[0m \u001b[0mcovs\u001b[0m\u001b[1;33m)\u001b[0m \u001b[1;33m*\u001b[0m \u001b[0mz\u001b[0m\u001b[1;33m.\u001b[0m\u001b[0mreshape\u001b[0m\u001b[1;33m(\u001b[0m\u001b[1;36m1\u001b[0m\u001b[1;33m,\u001b[0m \u001b[1;33m-\u001b[0m\u001b[1;36m1\u001b[0m\u001b[1;33m)\u001b[0m \u001b[1;31m# N x n_gh\u001b[0m\u001b[1;33m\u001b[0m\u001b[1;33m\u001b[0m\u001b[0m\n\u001b[1;32m---> 47\u001b[1;33m     \u001b[0mllh_quad\u001b[0m \u001b[1;33m=\u001b[0m \u001b[0mweights\u001b[0m \u001b[1;33m*\u001b[0m \u001b[0mllh\u001b[0m\u001b[1;33m(\u001b[0m\u001b[0minputs\u001b[0m\u001b[1;33m,\u001b[0m \u001b[0my\u001b[0m\u001b[1;33m)\u001b[0m \u001b[1;31m# N x n_gh\u001b[0m\u001b[1;33m\u001b[0m\u001b[1;33m\u001b[0m\u001b[0m\n\u001b[0m\u001b[0;32m     48\u001b[0m \u001b[1;33m\u001b[0m\u001b[0m\n\u001b[0;32m     49\u001b[0m     \u001b[1;31m# 'tf.reduce_sum' is tensorflow's summing function,\u001b[0m\u001b[1;33m\u001b[0m\u001b[1;33m\u001b[0m\u001b[1;33m\u001b[0m\u001b[0m\n",
      "\u001b[1;32m<ipython-input-31-d9b1f1f82f9d>\u001b[0m in \u001b[0;36mclassif_log_likelihood\u001b[1;34m(f, y)\u001b[0m\n\u001b[0;32m     16\u001b[0m     \u001b[1;31m###############################################\u001b[0m\u001b[1;33m\u001b[0m\u001b[1;33m\u001b[0m\u001b[1;33m\u001b[0m\u001b[0m\n\u001b[0;32m     17\u001b[0m     \u001b[0mtmp\u001b[0m \u001b[1;33m=\u001b[0m \u001b[0mphi\u001b[0m\u001b[1;33m(\u001b[0m\u001b[0mtf\u001b[0m\u001b[1;33m.\u001b[0m\u001b[0mmath\u001b[0m\u001b[1;33m.\u001b[0m\u001b[0mmultiply\u001b[0m\u001b[1;33m(\u001b[0m\u001b[0my\u001b[0m\u001b[1;33m,\u001b[0m\u001b[0mf\u001b[0m\u001b[1;33m)\u001b[0m\u001b[1;33m)\u001b[0m\u001b[1;33m\u001b[0m\u001b[1;33m\u001b[0m\u001b[0m\n\u001b[1;32m---> 18\u001b[1;33m     \u001b[1;32massert\u001b[0m \u001b[0mtmp\u001b[0m \u001b[1;33m>\u001b[0m \u001b[1;36m0\u001b[0m\u001b[1;33m\u001b[0m\u001b[1;33m\u001b[0m\u001b[0m\n\u001b[0m\u001b[0;32m     19\u001b[0m     \u001b[1;32mreturn\u001b[0m \u001b[0mtf\u001b[0m\u001b[1;33m.\u001b[0m\u001b[0mmath\u001b[0m\u001b[1;33m.\u001b[0m\u001b[0mlog\u001b[0m\u001b[1;33m(\u001b[0m\u001b[1;33m)\u001b[0m\u001b[1;33m\u001b[0m\u001b[1;33m\u001b[0m\u001b[0m\n\u001b[0;32m     20\u001b[0m     \u001b[1;31m###############################################\u001b[0m\u001b[1;33m\u001b[0m\u001b[1;33m\u001b[0m\u001b[1;33m\u001b[0m\u001b[0m\n",
      "\u001b[1;32mE:\\Work\\Enviroment\\Conda\\lib\\site-packages\\tensorflow\\python\\framework\\ops.py\u001b[0m in \u001b[0;36m__bool__\u001b[1;34m(self)\u001b[0m\n\u001b[0;32m    982\u001b[0m \u001b[1;33m\u001b[0m\u001b[0m\n\u001b[0;32m    983\u001b[0m   \u001b[1;32mdef\u001b[0m \u001b[0m__bool__\u001b[0m\u001b[1;33m(\u001b[0m\u001b[0mself\u001b[0m\u001b[1;33m)\u001b[0m\u001b[1;33m:\u001b[0m\u001b[1;33m\u001b[0m\u001b[1;33m\u001b[0m\u001b[0m\n\u001b[1;32m--> 984\u001b[1;33m     \u001b[1;32mreturn\u001b[0m \u001b[0mbool\u001b[0m\u001b[1;33m(\u001b[0m\u001b[0mself\u001b[0m\u001b[1;33m.\u001b[0m\u001b[0m_numpy\u001b[0m\u001b[1;33m(\u001b[0m\u001b[1;33m)\u001b[0m\u001b[1;33m)\u001b[0m\u001b[1;33m\u001b[0m\u001b[1;33m\u001b[0m\u001b[0m\n\u001b[0m\u001b[0;32m    985\u001b[0m \u001b[1;33m\u001b[0m\u001b[0m\n\u001b[0;32m    986\u001b[0m   \u001b[0m__nonzero__\u001b[0m \u001b[1;33m=\u001b[0m \u001b[0m__bool__\u001b[0m\u001b[1;33m\u001b[0m\u001b[1;33m\u001b[0m\u001b[0m\n",
      "\u001b[1;31mValueError\u001b[0m: The truth value of an array with more than one element is ambiguous. Use a.any() or a.all()"
     ]
    }
   ],
   "source": [
    "iterations = 5000\n",
    "# initial distribution parameters m_q, L_q\n",
    "m_q = tf.Variable(np.zeros((N, 1)), dtype=tf.float64,name='m_q',trainable=True)\n",
    "L_q = tf.Variable(np.eye(N), dtype=tf.float64,name='L_q', trainable=True)\n",
    "\n",
    "loss_res = []\n",
    "\n",
    "# Optimize the loss: a tensorflow routine is given\n",
    "loss = lambda m, L: - elbo(m_p, L_p, m, L, Y)\n",
    "\n",
    "# definition of a training step\n",
    "def train(opt, m, L):\n",
    "    with tf.GradientTape() as tape:\n",
    "        tape.watch([m, L])\n",
    "        loss_ = - elbo(m_p, L_p, m, L, Y)\n",
    "        loss_res.append(loss_)\n",
    "    gradients = tape.gradient(loss_, [m, L])\n",
    "    opt.apply_gradients(zip(gradients, [m, L]))\n",
    "\n",
    "\n",
    "# you can change the optimizer or learning rate\n",
    "opt = tf.optimizers.Adam(learning_rate=.0001) \n",
    "\n",
    "# running the optimization\n",
    "for t in range(iterations):\n",
    "    train(opt, m_q, L_q)\n",
    "    if t % 500 == 0:\n",
    "        print(t, loss_res[t])\n"
   ]
  },
  {
   "cell_type": "markdown",
   "metadata": {
    "id": "emZZ_6Zc66-l"
   },
   "source": [
    "* Plot the evolution of the ELBO as a function function of iterations.\n",
    "\n",
    "* Plot the posterior process $p(f^*|x^*, {\\cal D})$.\n",
    "\n",
    "* Plot the predictive distribution $p(y^*=1|x^*)$.\n",
    "\n",
    "* Repeat the procedure for different values of $(\\sigma^2, l)$, can you see an improvement? Is the ELBO a good proxy for hyperparameter optimization in this example?\n"
   ]
  },
  {
   "cell_type": "code",
   "execution_count": 23,
   "metadata": {
    "colab": {
     "base_uri": "https://localhost:8080/",
     "height": 595
    },
    "id": "RCekvfs166-l",
    "outputId": "022991b5-80ae-423f-acea-7549beb55e2d"
   },
   "outputs": [
    {
     "data": {
      "image/png": "[encoded data removed]",
      "text/plain": [
       "<Figure size 720x480 with 1 Axes>"
      ]
     },
     "metadata": {
      "needs_background": "light"
     },
     "output_type": "display_data"
    }
   ],
   "source": [
    "###############################################\n",
    "# ------- insert code here -------------------\n",
    "###############################################\n",
    "plt.figure(dpi=120)\n",
    "plt.title(\"ELBO\")\n",
    "plt.xlabel(\"iterations\")\n",
    "plt.ylabel(\"elbo\")\n",
    "plt.plot(np.linspace(0,5000,5000), np.negative(loss_res))\n",
    "plt.show()\n",
    "\n"
   ]
  },
  {
   "cell_type": "code",
   "execution_count": 19,
   "metadata": {},
   "outputs": [
    {
     "data": {
      "text/plain": [
       "<matplotlib.colorbar.Colorbar at 0x1420e36f160>"
      ]
     },
     "execution_count": 19,
     "metadata": {},
     "output_type": "execute_result"
    },
    {
     "data": {
      "image/png": "[encoded data removed]",
      "text/plain": [
       "<Figure size 720x480 with 2 Axes>"
      ]
     },
     "metadata": {
      "needs_background": "light"
     },
     "output_type": "display_data"
    },
    {
     "data": {
      "image/png": "[encoded data removed]",
      "text/plain": [
       "<Figure size 720x480 with 2 Axes>"
      ]
     },
     "metadata": {
      "needs_background": "light"
     },
     "output_type": "display_data"
    }
   ],
   "source": [
    "# means, covs = q_marginals(m_q, L_q)\n",
    "# means = means.numpy()\n",
    "plt.figure(0,dpi=120)\n",
    "plt.title(\"p(f* | D)\")\n",
    "plt.xlabel(\"x1\")\n",
    "plt.ylabel(\"x2\")\n",
    "plt.scatter(X[:,0], X[:,1], c=np.reshape(m_q.numpy(),-1))\n",
    "plt.colorbar()\n",
    "\n",
    "plt.figure(1,dpi=120)\n",
    "plt.title(\"p(y*=1 | x*)\")\n",
    "mean,var = q_marginals(m_q, L_q)\n",
    "p = phi(mean/tf.math.sqrt(1+var) )\n",
    "plt.scatter(X[:,0], X[:,1], c=np.reshape(p,-1))\n",
    "plt.colorbar()\n"
   ]
  },
  {
   "cell_type": "markdown",
   "metadata": {
    "id": "t3ZlPddLxMXT"
   },
   "source": [
    "### Task 1e: Posterior prediction for new data points\n",
    "\n",
    "Under the hood, the algorithm defines a posterior process for all values of the input space.\n",
    "\n",
    "For a new input $x^*$, the posterior prediction is given by \n",
    "\n",
    "$\n",
    "\\begin{align*}\n",
    "q(f(x^*)) &= \\int p(f(x^*)|{\\bf f})q({\\bf f})d{\\bf f}\\\\\n",
    " &= {\\cal N}(f(x^*)| K_{f^*{\\bf f} }K_{{\\bf ff}}^{-1} m_q,\n",
    " K_{f^*f^*} - K_{f^*{\\bf f}}K_{{\\bf ff}}^{-1}(K_{{\\bf ff}} - S)K_{{\\bf ff}}^{-1}K_{{\\bf f} f^*})\n",
    "\\end{align*}\n",
    "$"
   ]
  },
  {
   "cell_type": "code",
   "execution_count": null,
   "metadata": {
    "id": "nIrjqfJNxKDv"
   },
   "outputs": [],
   "source": [
    "def posterior_marginal_prediction(X_new, X, m_q, L_q):\n",
    "    \"\"\"\n",
    "    compute the posterior marginal predictions q(f(x*))\n",
    "    independently for all inputs in X_new \n",
    "\n",
    "    Note: You need to now use tensorflow functions\n",
    "\n",
    "    arguments:\n",
    "    X_new -- N_new x 2, matrix of new inputs\n",
    "    X     -- N x 2, matrix of training inputs\n",
    "    L_q   -- N x N, Cholesky factor of the covariances of q\n",
    "    m_q   -- N x 1, mean vector of q\n",
    "    returns: predictive marginal means and variances (both with size N_new x 1) \n",
    "    \"\"\"\n",
    "    kff = create_se_kernel(X,X,l,s**2)\n",
    "    inv_kff = tf.linalg.inv(kff)\n",
    "    print(\"kff kernel inv generated\")\n",
    "    kyf = create_se_kernel(X_new,X,0.5,0.5)\n",
    "    kfy = create_se_kernel(X,X_new,0.5,0.5)\n",
    "    kyy = create_se_kernel(X_new,X_new,0.5,0.5)\n",
    "    print(\"all kernel generated\")\n",
    "    S = tf.constant(np.eye(X.shape[0]))\n",
    "\n",
    "    tmp_mean = tf.tensordot(tf.tensordot(kyf,inv_kff), m_q)\n",
    "    tmp_cov = kyy - tf.tensordot(\n",
    "    tf.tensordot(\n",
    "      tf.tensordot(\n",
    "        tf.tensordot(\n",
    "          kyf,inv_kff\n",
    "        ), kff-S\n",
    "      ), inv_kff\n",
    "    ), kfy)\n",
    "    return q_marginals(tmp_mean, tmp_cov)\n",
    "    ###############################################\n",
    "    # ------- insert code here -------------------\n",
    "    ###############################################\n",
    "\n",
    "    \n",
    "    \n",
    "    "
   ]
  },
  {
   "cell_type": "markdown",
   "metadata": {
    "id": "sfGR_5yG64zo"
   },
   "source": [
    "Plotting the prediction"
   ]
  },
  {
   "cell_type": "code",
   "execution_count": null,
   "metadata": {
    "colab": {
     "base_uri": "https://localhost:8080/",
     "height": 306
    },
    "id": "4bXbpwLP3Zcv",
    "outputId": "a5446e44-ab6d-49b7-babf-d1df3b83faa9"
   },
   "outputs": [],
   "source": [
    "# create new input points on grid\n",
    "n_grid = 100\n",
    "x = np.linspace(X.min(), X.max(), n_grid)\n",
    "X1new, X2new = np.meshgrid(x, x)\n",
    "Xnew = np.hstack([\n",
    "  X1new.reshape(-1,1), X2new.reshape(-1,1)\n",
    "])  # size : n_grid * n_grid x 2\n",
    "\n",
    "###############################################\n",
    "# ------- insert code here -------------------\n",
    "###############################################\n",
    "m,v = posterior_marginal_prediction(Xnew,X,m_q,L_q)\n",
    "plt.figure(0,dpi=120)\n",
    "plt.title(\"q(f(x*))\")\n",
    "plt.xlabel(\"x1\")\n",
    "plt.ylabel(\"x2\")\n",
    "plt.scatter(Xnew[:,0], Xnew[:,1], c=np.reshape(m.numpy(),-1))\n",
    "plt.colorbar()"
   ]
  },
  {
   "cell_type": "code",
   "execution_count": null,
   "metadata": {},
   "outputs": [],
   "source": []
  },
  {
   "cell_type": "markdown",
   "metadata": {
    "id": "CDp21NI566-m"
   },
   "source": [
    "### Advanced [for the curious, no extra points]\n",
    "* Repeat the procedure for the regression setting with Gaussian noise. You need to derive new variational expectations since the likelihood changes. Apply the resulting algorithm to the regression problem of the previous assignment.\n",
    "* For fixed hyperparameters, do the ELBO match the marginal likelihood $\\log p({\\bf y})$? If so why?"
   ]
  },
  {
   "cell_type": "code",
   "execution_count": null,
   "metadata": {
    "id": "tf6jYiwm66-n"
   },
   "outputs": [],
   "source": [
    "###############################################\n",
    "# ------- insert code here -------------------\n",
    "###############################################"
   ]
  },
  {
   "cell_type": "markdown",
   "metadata": {},
   "source": [
    "# Task 2: GPLVM's (worth 1 point)"
   ]
  },
  {
   "cell_type": "markdown",
   "metadata": {},
   "source": [
    "Latent variable models attempt to capture hidden structure in high dimensional\n",
    "data. Given a collection of\n",
    "high-dimensional observations (e.g., images), we can posit some low-dimensional\n",
    "latent structure. We assume that, conditional on the latent structure, the large\n",
    "number of outputs (pixels in the image) are independent of each other. Training\n",
    "in this model consists of\n",
    "   1. optimizing model parameters (kernel function parameters as well as, e.g.,\n",
    "   observation noise variance), and\n",
    "   2. finding, for each training observation (image), a corresponding point\n",
    "   location in the index set.\n",
    "All of the optimization can be done by maximizing the marginal log likelihood of\n",
    "the data.\n",
    "\n",
    "## Imports\n",
    "\n",
    "For these tasks you Tensorflow, gpflow and GPy libraries. "
   ]
  },
  {
   "cell_type": "code",
   "execution_count": null,
   "metadata": {},
   "outputs": [],
   "source": [
    "import numpy as np\n",
    "np.random.seed(1)  # for reproducibility\n",
    "import matplotlib.pyplot as plt\n",
    "\n",
    "import tensorflow as tf\n",
    "import gpflow\n",
    "from gpflow.utilities import ops, print_summary\n",
    "from gpflow.config import set_default_float, default_float, set_default_summary_fmt\n",
    "from gpflow.ci_utils import ci_niter\n",
    "\n",
    "from sklearn.decomposition import PCA\n",
    "\n",
    "%pylab inline\n",
    "%matplotlib inline\n",
    "\n",
    "set_default_float(np.float64)\n",
    "set_default_summary_fmt(\"notebook\")"
   ]
  },
  {
   "cell_type": "code",
   "execution_count": null,
   "metadata": {},
   "outputs": [],
   "source": [
    "def load_MNIST(N=500):\n",
    "    import random\n",
    "\n",
    "    (y_train, labels_train), (_, _) = tf.keras.datasets.mnist.load_data()\n",
    "\n",
    "    # Shuffle data and subsample\n",
    "    new_idx = np.arange(y_train.shape[0])\n",
    "    np.random.shuffle(new_idx)\n",
    "    y_train, labels_train = y_train[new_idx, :, :], labels_train[new_idx]\n",
    "    sub_y_train = y_train[:N, ...].astype(np.float64) / 256.\n",
    "    labels = labels_train[:N]\n",
    "    y = sub_y_train.reshape(N, -1)\n",
    "\n",
    "    def view_MNIST():\n",
    "        # Lets look at the sub sampled data\n",
    "        rand_idx = np.random.randint(0, N-1)\n",
    "        plt.imshow(y[rand_idx, :].reshape((28,28)), interpolation='none', cmap='Greys')\n",
    "        plt.title(f'Random sample with label {labels[rand_idx]}')\n",
    "        plt.show()\n",
    "\n",
    "    view_MNIST()\n",
    "\n",
    "    print(\"Number of points: {} and Number of dimensions: {}\".format(y.shape[0], y.shape[1]))\n",
    "    return y, labels\n",
    "\n",
    "def load_three_phase_oil():\n",
    "    data = np.load(\"./data/three_phase_oil_flow.npz\")\n",
    "    y =data[\"Y\"]\n",
    "    labels = data[\"labels\"]\n",
    "    \n",
    "    print(\"Number of points: {} and Number of dimensions: {}\".format(y.shape[0], y.shape[1]))\n",
    "    return y, labels\n",
    "\n",
    "def load_swiss_roll(N=500):\n",
    "    from sklearn import datasets\n",
    "    y, color = datasets.make_swiss_roll(n_samples=N)\n",
    "    \n",
    "    print(\"Number of points: {} and Number of dimensions: {}\".format(y.shape[0], y.shape[1]))\n",
    "    return y, color\n",
    "\n",
    "def load_decampos_digits():\n",
    "    import GPy\n",
    "    which = [0,1,2,6,7,9] # which digits to work on\n",
    "    data = GPy.util.datasets.decampos_digits(which_digits=which)\n",
    "    y = data['Y']\n",
    "    labels = data['str_lbls'].ravel()\n",
    "    \n",
    "    print(\"Number of points: {} and Number of dimensions: {}\".format(y.shape[0], y.shape[1]))\n",
    "    return y, labels\n",
    "\n"
   ]
  },
  {
   "cell_type": "markdown",
   "metadata": {},
   "source": [
    "## (B)GPLVM model setup"
   ]
  },
  {
   "cell_type": "code",
   "execution_count": null,
   "metadata": {},
   "outputs": [],
   "source": [
    "# Shared model parameter set up\n",
    "#latent_dim = 2                            # number of latent dimensions\n",
    "#n_data_points = y.shape[0]                # number of data points\n",
    "#n_data_dims = y.shape[1]                  # number of data dimensions\n",
    "\n",
    "def create_GPLVM(kernel):\n",
    "    \n",
    "    X_init = ops.pca_reduce(y, latent_dim)              # Initialise latent\n",
    "    \n",
    "    # alternative initialisations...\n",
    "        \n",
    "    X_parameter = gpflow.base.Parameter(X_init)\n",
    "    Y_tensor = gpflow.models.util.data_input_to_tensor(y)\n",
    "\n",
    "    gplvm = gpflow.models.gpr.GPR((X_parameter, Y_tensor), kernel=kernel)\n",
    "    gplvm.likelihood.variance.assign(0.01)\n",
    "    \n",
    "    return gplvm\n",
    "\n",
    "def create_GPLVM_wrapped(kernel):\n",
    "    # Initialise latent\n",
    "    X_mean_init = ops.pca_reduce(y, latent_dim)\n",
    "    \n",
    "    gplvm = gpflow.models.GPLVM(\n",
    "        y,\n",
    "        latent_dim = latent_dim,\n",
    "        X_data_mean = X_mean_init,\n",
    "        kernel=kernel,\n",
    "    )\n",
    "\n",
    "    gplvm.likelihood.variance.assign(0.01)\n",
    "\n",
    "    # Helper function\n",
    "    #def get_latent(model):\n",
    "    #    return \n",
    "    \n",
    "    return gplvm#, get_latent\n",
    "\n",
    "def create_BGPLVM(kernel, num_inducing=25):\n",
    "    # Initialise latent\n",
    "    X_mean_init = ops.pca_reduce(y, latent_dim)\n",
    "    \n",
    "    # Initial inducing points\n",
    "    inducing_variable = tf.convert_to_tensor(\n",
    "        np.random.permutation(X_mean_init.numpy())[:num_inducing], dtype=default_float()\n",
    "    )\n",
    "    # Initialise latent variance\n",
    "    X_var_init = tf.ones((y.shape[0], latent_dim), dtype=default_float())\n",
    "\n",
    "\n",
    "    gplvm = gpflow.models.BayesianGPLVM(\n",
    "        y,\n",
    "        X_data_mean=X_mean_init,\n",
    "        X_data_var=X_var_init,\n",
    "        kernel=kernel,\n",
    "        inducing_variable=inducing_variable,\n",
    "    )\n",
    "\n",
    "    gplvm.likelihood.variance.assign(0.01)\n",
    "    \n",
    "    return gplvm\n",
    "\n",
    "get_latent_mean = lambda model: model.X_data_mean.numpy()\n",
    "get_latent = lambda model: model.data[0].numpy()\n"
   ]
  },
  {
   "cell_type": "markdown",
   "metadata": {},
   "source": [
    "## GPLVM and comparison to PCA"
   ]
  },
  {
   "cell_type": "code",
   "execution_count": null,
   "metadata": {},
   "outputs": [],
   "source": [
    "y, labels = load_decampos_digits()\n",
    "\n",
    "# PCA\n",
    "pca_latent = 12\n",
    "pca = PCA(n_components=pca_latent)\n",
    "X_pca = pca.fit_transform(y-y.mean())\n",
    "f, ax = plt.subplots(1, 2, figsize=(10, 4.8))\n",
    "ax[0].set_title('First two principal components')\n",
    "for i in np.unique(labels):\n",
    "    ax[0].scatter(X_pca[labels == i, 0], X_pca[labels == i, 1], label=i)\n",
    "ax[1].bar(np.linspace(0, pca_latent, pca_latent), pca.explained_variance_)\n",
    "ax[1].set_title('Variance explained');\n",
    "plt.show()\n",
    "\n",
    "# GPLVM with linear kernel\n",
    "latent_dim = 4\n",
    "lengthscales = tf.convert_to_tensor([1.] * latent_dim, dtype=default_float())\n",
    "kernel = gpflow.kernels.Linear(variance=lengthscales)  \n",
    "gplvm = create_GPLVM(kernel)\n",
    "opt = gpflow.optimizers.Scipy()                       \n",
    "maxiter = ci_niter(10000)\n",
    "_ = opt.minimize(\n",
    "    gplvm.training_loss,\n",
    "    method=\"BFGS\",\n",
    "    variables=gplvm.trainable_variables,\n",
    "    options=dict(maxiter=maxiter),\n",
    ")     \n",
    "print_summary(gplvm)\n",
    "order = gplvm.kernel.variance.numpy().argsort()\n",
    "f, ax = plt.subplots(1, 2, figsize=(10, 4.8))\n",
    "X_gplvm_linear = gplvm.data[0].numpy()[:, order]\n",
    "for i in np.unique(labels):\n",
    "    ax[0].scatter(X_gplvm_linear[labels == i, 0], X_gplvm_linear[labels == i, 1], label=i)\n",
    "#ax[0].scatter(X_gplvm_linear[:, 0], X_gplvm_linear[:, 1], c=labels)\n",
    "ax[1].bar(np.linspace(0, latent_dim, latent_dim), 1/gplvm.kernel.variance.numpy()[order])\n",
    "ax[1].set_title('Variance explained');\n"
   ]
  },
  {
   "cell_type": "markdown",
   "metadata": {},
   "source": [
    "## Task 2a\n",
    "\n",
    "How does your linear solution differ between PCA and GPLVM with a linear kernel? Look at the plots and also try and consider how the linear ARD parameters compare to the eigenvalues of the principal components.\n",
    "\n",
    "\n",
    "__Solution__\n",
    "\n",
    "[insert]\n"
   ]
  },
  {
   "cell_type": "code",
   "execution_count": null,
   "metadata": {},
   "outputs": [],
   "source": []
  },
  {
   "cell_type": "markdown",
   "metadata": {},
   "source": [
    "## Task 2b\n",
    "\n",
    "Change the initialisation of the latent variables X_init inside the GPLVM model builder function. How this does change the results?\n",
    "\n",
    "Hint: Try random noise, or a subset of the dimensions.\n",
    "\n",
    "__Solution__\n",
    "\n",
    "[insert]"
   ]
  },
  {
   "cell_type": "markdown",
   "metadata": {},
   "source": [
    "## Task 2c\n",
    "\n",
    "The next step is to use a non-linear mapping between latent variables  __$X$__  and features  __$Y$__  by selecting the exponentiated quadratic covariance function. Run the code below.\n",
    "\n",
    "How does choosing a non-linear kernel affect the results? Are there digits that the GPLVM with an exponentiated quadratic covariance can separate, which PCA is not able to?\n",
    "\n",
    "__Solution__\n",
    "\n",
    "[insert]"
   ]
  },
  {
   "cell_type": "code",
   "execution_count": null,
   "metadata": {},
   "outputs": [],
   "source": [
    "lengthscales = tf.convert_to_tensor([1.] * latent_dim, dtype=default_float())\n",
    "kernel = gpflow.kernels.RBF(lengthscales=lengthscales)\n",
    "gplvm = create_GPLVM(kernel)\n",
    "\n",
    "opt = gpflow.optimizers.Scipy()                       \n",
    "maxiter = ci_niter(1000)\n",
    "_ = opt.minimize(\n",
    "    gplvm.training_loss,\n",
    "    method=\"BFGS\",\n",
    "    variables=gplvm.trainable_variables,\n",
    "    options=dict(maxiter=maxiter),\n",
    ")     \n",
    "print_summary(gplvm)\n",
    "\n",
    "order = (gplvm.kernel.lengthscales.numpy()).argsort()\n",
    "f, ax = plt.subplots(1, 2, figsize=(10, 4.8))\n",
    "X_gplvm_rbf = gplvm.data[0].numpy()[:, order]\n",
    "for i in np.unique(labels):\n",
    "    ax[0].scatter(X_gplvm_rbf[labels == i, 0], X_gplvm_rbf[labels == i, 1], label=i)\n",
    "ax[0].legend()\n",
    "ax[1].bar(np.linspace(0, latent_dim, latent_dim), 1/gplvm.kernel.lengthscales.numpy()[order])\n"
   ]
  },
  {
   "cell_type": "markdown",
   "metadata": {},
   "source": [
    "## Bayesian GPLVM\n",
    "\n",
    "GPLVM needs not make anyassumptions on the prior of latent variables. However, lack of such assumption makes the model inferred by just maximizingthe log marginal likelihood prone to overfitting. To tackle this problem, one of effective approaches is to impose a specific prior onto the latent variables for a posterior estimation. Thus, we can introduce various constraints into the prior for the estimation the latent variables in different tasks. Specifically, we assume that $p(X)$ denotes the imposed prior. By using the Bayesian theorem, we can formulate the posterior probability of the latent variables X as $p(X|Y,\\theta) \\propto p(Y|X,\\theta)p(X)$ \n",
    "\n"
   ]
  },
  {
   "cell_type": "code",
   "execution_count": null,
   "metadata": {},
   "outputs": [],
   "source": [
    "lengthscales = tf.convert_to_tensor([1.] * latent_dim, dtype=default_float())\n",
    "kernel = gpflow.kernels.RBF(lengthscales=lengthscales)\n",
    "bgplvm = create_BGPLVM(kernel, num_inducing=20)\n",
    "\n",
    "# This will take minutes to run.\n",
    "# You can interrupt the kernel\n",
    "opt = gpflow.optimizers.Scipy()                       \n",
    "maxiter = ci_niter(1000)\n",
    "_ = opt.minimize(\n",
    "    bgplvm.training_loss,\n",
    "    method=\"BFGS\",\n",
    "    variables=bgplvm.trainable_variables,\n",
    "    options=dict(maxiter=maxiter),\n",
    ")     \n",
    "print_summary(bgplvm)"
   ]
  },
  {
   "cell_type": "code",
   "execution_count": null,
   "metadata": {},
   "outputs": [],
   "source": [
    "order = (bgplvm.kernel.lengthscales.numpy()).argsort()\n",
    "f, ax = plt.subplots(1, 2, figsize=(10, 4.8))\n",
    "X_bgplvm_rbf = bgplvm.X_data_mean.numpy()[:, order]\n",
    "for i in np.unique(labels):\n",
    "    ax[0].scatter(X_bgplvm_rbf[labels == i, 0], X_bgplvm_rbf[labels == i, 1], label=i)\n",
    "ax[0].legend()\n",
    "ax[1].bar(np.linspace(0, latent_dim, latent_dim), 1/bgplvm.kernel.lengthscales.numpy()[order]);\n"
   ]
  },
  {
   "cell_type": "markdown",
   "metadata": {},
   "source": [
    "## Task 2d \n",
    "\n",
    "* How does the Bayesian GP-LVM compare with the GPLVM model?  \n",
    "* How has the prior on $X$ affected the results?\n",
    "* Are there any classes that still overlap? Why?\n",
    "\n",
    "__Solution__\n",
    "\n",
    "* ...\n",
    "* ...\n",
    "* ..."
   ]
  },
  {
   "cell_type": "code",
   "execution_count": null,
   "metadata": {},
   "outputs": [],
   "source": []
  }
 ],
 "metadata": {
  "colab": {
   "collapsed_sections": [],
   "name": "lab3.ipynb",
   "provenance": [],
   "toc_visible": true
  },
  "kernelspec": {
   "display_name": "Python 3",
   "language": "python",
   "name": "python3"
  },
  "language_info": {
   "codemirror_mode": {
    "name": "ipython",
    "version": 3
   },
   "file_extension": ".py",
   "mimetype": "text/x-python",
   "name": "python",
   "nbconvert_exporter": "python",
   "pygments_lexer": "ipython3",
   "version": "3.8.1-final"
  }
 },
 "nbformat": 4,
 "nbformat_minor": 4
}